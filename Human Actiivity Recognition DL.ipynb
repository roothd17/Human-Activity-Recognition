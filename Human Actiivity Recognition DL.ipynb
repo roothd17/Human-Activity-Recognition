{
 "cells": [
  {
   "cell_type": "markdown",
   "metadata": {},
   "source": [
    "# Huamn Activity Recognition ( Deep Learning Models )"
   ]
  },
  {
   "cell_type": "code",
   "execution_count": 1,
   "metadata": {
    "collapsed": true
   },
   "outputs": [],
   "source": [
    "import os\n",
    "\n",
    "os.chdir('E:\\Datasets\\Human Activity Recognition')"
   ]
  },
  {
   "cell_type": "code",
   "execution_count": 2,
   "metadata": {
    "collapsed": true
   },
   "outputs": [],
   "source": [
    "import pandas as pd\n",
    "import numpy as np"
   ]
  },
  {
   "cell_type": "markdown",
   "metadata": {},
   "source": [
    "Here we use raw data rather than pre-engineered Signal processing features\n",
    "\n",
    "We have various .txt files under the directory train > Inertial Signals and test > Inertial Signals\n",
    "\n",
    "Which contains the following files:\n",
    "\n",
    "- body_acc_x_train.txt\n",
    "- body_acc_y_train.txt\n",
    "- body_acc_z_train.txt\n",
    "- body_gyro_x_train.txt\n",
    "- body_gyro_y_train.txt\n",
    "- body_gyro_z_train.txt\n",
    "- total_acc_x_train.txt\n",
    "- total_acc_y_train.txt\n",
    "- total_acc_z_train.txt\n",
    "\n",
    "And corresponding _text.txt file under test > Inertial Signals directory\n",
    "\n",
    "Our Labels are :-\n",
    "1. Walking     \n",
    "2. WalkingUpstairs \n",
    "3. WalkingDownstairs \n",
    "4. Standing \n",
    "5. Sitting \n",
    "6. Lying.\n"
   ]
  },
  {
   "cell_type": "markdown",
   "metadata": {},
   "source": [
    "## Loading the Data"
   ]
  },
  {
   "cell_type": "code",
   "execution_count": 3,
   "metadata": {
    "collapsed": true
   },
   "outputs": [],
   "source": [
    "def loadx( dr ): \n",
    "    \n",
    "    # Collecting the name of all .txt files\n",
    "    os.chdir(f'{dr}\\Inertial Signals')\n",
    "    signals = os.listdir()\n",
    "    \n",
    "    data = []\n",
    "    \n",
    "    for sig in signals:\n",
    "        \n",
    "        data.append( pd.read_csv(sig, delim_whitespace=True, header=None).as_matrix() )\n",
    "    \n",
    "    \n",
    "    os.chdir('..')\n",
    "    os.chdir('..')\n",
    "      \n",
    "    #return data # Shape by this is coming to be (9, 7352, 128)\n",
    "    return np.transpose( data, (1, 2, 0) )  # shape by this is (7352, 128, 9)\n",
    "\n",
    "# Transpose is used to change the dimensionality of the output."
   ]
  },
  {
   "cell_type": "code",
   "execution_count": 4,
   "metadata": {
    "collapsed": true
   },
   "outputs": [],
   "source": [
    "def loady( dr ):\n",
    "    \n",
    "    os.chdir(f'{dr}')\n",
    "    file = f'y_{dr}.txt'\n",
    "    \n",
    "    data = pd.read_csv(file, delim_whitespace=True, header=None)[0]  # [0] at the end converts dataframe to series\n",
    "    os.chdir('..')\n",
    "    \n",
    "    return pd.get_dummies(data).as_matrix()  # converts each row to a binary 6-D vector and returns as matrix\n",
    "\n",
    "# We convert our label i,e; y into a 6 dimensional vector\n",
    "# ex: consider an label is 5 convert it into => [0, 0, 0, 0, 1, 0]\n",
    "# This conversion is needed for MLPs "
   ]
  },
  {
   "cell_type": "code",
   "execution_count": 5,
   "metadata": {
    "collapsed": true
   },
   "outputs": [],
   "source": [
    "# Loading Train\n",
    "xtr = loadx('train')\n",
    "ytr = loady('train')\n",
    "\n",
    "# Loading Test\n",
    "xte = loadx('test')\n",
    "yte = loady('test')"
   ]
  },
  {
   "cell_type": "code",
   "execution_count": 6,
   "metadata": {},
   "outputs": [
    {
     "name": "stdout",
     "output_type": "stream",
     "text": [
      "(7352, 128, 9) (7352, 6)\n",
      "(2947, 128, 9) (2947, 6)\n"
     ]
    }
   ],
   "source": [
    "print(xtr.shape, ytr.shape)\n",
    "print(xte.shape, yte.shape)"
   ]
  },
  {
   "cell_type": "code",
   "execution_count": 7,
   "metadata": {},
   "outputs": [
    {
     "data": {
      "text/plain": [
       "array([[ 1.110451e-03, -5.557761e-03,  9.687449e-04, ...,  1.011267e+00,\n",
       "        -2.505096e-01, -1.556701e-02],\n",
       "       [ 6.720449e-04, -5.005509e-03, -2.138752e-03, ...,  1.010825e+00,\n",
       "        -2.499909e-01, -1.869955e-02],\n",
       "       [ 1.776720e-04, -4.303683e-03, -3.950164e-03, ...,  1.010328e+00,\n",
       "        -2.493235e-01, -2.053607e-02],\n",
       "       ...,\n",
       "       [ 2.817141e-04,  1.717705e-03,  2.950752e-03, ...,  1.010069e+00,\n",
       "        -2.412887e-01, -1.444726e-02],\n",
       "       [ 6.116611e-05,  3.321776e-03,  1.070833e-03, ...,  1.009859e+00,\n",
       "        -2.396568e-01, -1.630558e-02],\n",
       "       [-4.270482e-04,  2.718457e-03, -5.560078e-04, ...,  1.009381e+00,\n",
       "        -2.402332e-01, -1.791109e-02]])"
      ]
     },
     "execution_count": 7,
     "metadata": {},
     "output_type": "execute_result"
    }
   ],
   "source": [
    "xtr[20]"
   ]
  },
  {
   "cell_type": "code",
   "execution_count": 8,
   "metadata": {},
   "outputs": [
    {
     "data": {
      "text/plain": [
       "array([0, 0, 0, 0, 1, 0], dtype=uint8)"
      ]
     },
     "execution_count": 8,
     "metadata": {},
     "output_type": "execute_result"
    }
   ],
   "source": [
    "ytr[9]"
   ]
  },
  {
   "cell_type": "code",
   "execution_count": null,
   "metadata": {
    "collapsed": true
   },
   "outputs": [],
   "source": []
  },
  {
   "cell_type": "code",
   "execution_count": 9,
   "metadata": {},
   "outputs": [
    {
     "name": "stderr",
     "output_type": "stream",
     "text": [
      "D:\\Anaconda\\lib\\site-packages\\h5py\\__init__.py:34: FutureWarning: Conversion of the second argument of issubdtype from `float` to `np.floating` is deprecated. In future, it will be treated as `np.float64 == np.dtype(float).type`.\n",
      "  from ._conv import register_converters as _register_converters\n",
      "Using TensorFlow backend.\n"
     ]
    }
   ],
   "source": [
    "import keras"
   ]
  },
  {
   "cell_type": "code",
   "execution_count": 12,
   "metadata": {
    "collapsed": true
   },
   "outputs": [],
   "source": [
    "timestamps = len( xtr[0] )\n",
    "ipdim = len( xtr[0][0] )\n",
    "opdim = 6"
   ]
  },
  {
   "cell_type": "code",
   "execution_count": null,
   "metadata": {
    "collapsed": true
   },
   "outputs": [],
   "source": []
  },
  {
   "cell_type": "code",
   "execution_count": 24,
   "metadata": {
    "collapsed": true
   },
   "outputs": [],
   "source": [
    "from keras.models import Sequential\n",
    "from keras.layers import LSTM\n",
    "from keras.layers.core import Dense, Dropout"
   ]
  },
  {
   "cell_type": "markdown",
   "metadata": {},
   "source": [
    "<font size=3>The <b>Sequential model</b> is a linear stack of layers.\n",
    "\n",
    "You can create a Sequential model by passing a list of layer instances to the constructor:\n",
    "\n",
    "```\n",
    "from keras.models import Sequential\n",
    "from keras.layers import Dense, Activation\n",
    "\n",
    "model = Sequential([ Dense( 32,  input_shape = ( 784, ) ), Activation('relu'),\n",
    "                     Dense(10), Activation('softmax') ])  \n",
    "```\n",
    "\n",
    "You can also simply add layers via the .add( ) method:\n",
    "\n",
    "```\n",
    "model = Sequential()\n",
    "model.add( Dense( 32,  input_dim = 784 ))\n",
    "model.add( Activation('relu') )\n",
    "```\n",
    "</font>\n",
    "<i> Ref : https://keras.io/getting-started/sequential-model-guide/ </i>"
   ]
  },
  {
   "cell_type": "code",
   "execution_count": 22,
   "metadata": {
    "collapsed": true
   },
   "outputs": [],
   "source": [
    "# Initializing the parameters\n",
    "epoch = 30\n",
    "batch = 16\n",
    "hidden = 32"
   ]
  },
  {
   "cell_type": "code",
   "execution_count": 29,
   "metadata": {
    "collapsed": true
   },
   "outputs": [],
   "source": [
    "# Initiliazing the sequential model\n",
    "\n",
    "model = Sequential()\n",
    "\n",
    "model.add( LSTM( hidden, input_shape = (timestamps, ipdim)))\n",
    "\n",
    "# Adding a dropout layer\n",
    "model.add( Dropout(0.5) )  \n",
    "\n",
    "# We use dropout layer to avoid Overfitting"
   ]
  },
  {
   "cell_type": "markdown",
   "metadata": {},
   "source": [
    "<font size=3>\n",
    "The model needs to know what input shape it should expect. \n",
    "\n",
    "For this reason, the first layer in a Sequential model needs to receive information about its input shape. \n",
    "\n",
    "We can use input_shape and input_dim to pass the shape of input, output dim \n",
    "represent the number of nodes need in that layer here we have 10 nodes\n",
    "  <br><br>\n",
    " \n",
    "Dense implements the operation : output = activation( dot( input,   kernel ) + bias )    \n",
    "  \n",
    "  where activation is the element-wise activation function passed as the activation argument, kernel is a weights matrix created by the layer, and bias is a bias vector created by the layer (only applicable if use_bias is True).\n",
    " \n",
    "  i.e; output = activation( w.T * x + b )\n",
    "\n",
    "  \n",
    "```\n",
    "keras.layers.Dense( units, activation=None, use_bias=True, \n",
    "                    kernel_initializer='glorot_uniform', bias_initializer='zeros', \n",
    "                    kernel_regularizer=None, bias_regularizer=None, \n",
    "                    activity_regularizer=None, kernel_constraint=None, \n",
    "                    bias_constraint=None )\n",
    "```\n",
    "  Here, units: Positive integer, dimensionality of the output space.<br><br>\n",
    "  \n",
    " Activations can either be used through an Activation layer, or through the activation argument supported by all forward layers:\n",
    "\n",
    " \n",
    "\n",
    "\n",
    "```\n",
    "from keras.layers import Activation, Dense\n",
    "\n",
    "model.add(Dense(64))\n",
    "model.add(Activation('tanh'))\n",
    "  \n",
    "# This is equivalent to :\n",
    "model.add(Dense(64, activation='tanh'))\n",
    "```\n",
    "there are many activation functions  available ex: tanh, relu, softmax"
   ]
  },
  {
   "cell_type": "code",
   "execution_count": 30,
   "metadata": {},
   "outputs": [
    {
     "name": "stdout",
     "output_type": "stream",
     "text": [
      "_________________________________________________________________\n",
      "Layer (type)                 Output Shape              Param #   \n",
      "=================================================================\n",
      "lstm_2 (LSTM)                (None, 32)                5376      \n",
      "_________________________________________________________________\n",
      "dropout_2 (Dropout)          (None, 32)                0         \n",
      "_________________________________________________________________\n",
      "dense_2 (Dense)              (None, 6)                 198       \n",
      "=================================================================\n",
      "Total params: 5,574\n",
      "Trainable params: 5,574\n",
      "Non-trainable params: 0\n",
      "_________________________________________________________________\n"
     ]
    }
   ],
   "source": [
    "# Adding a Dense output layer with Sigmoid activation\n",
    "\n",
    "model.add( Dense( opdim, activation='sigmoid' ))\n",
    "\n",
    "model.summary()\n",
    "\n",
    "# here opdim = output dimension"
   ]
  },
  {
   "cell_type": "markdown",
   "metadata": {},
   "source": [
    "<font size=3>\n",
    "Before training a model, you need to configure the learning process, which is done via the compile method.\n",
    "\n",
    "It receives three arguments:\n",
    "\n",
    "<b>An optimizer </b> This could be the string identifier of an existing optimizer (such as rmsprop or adagrad), or an instance of the Optimizer class.\n",
    "\n",
    "<b>A loss function </b> This is the objective that the model will try to minimize. It can be the string identifier of an existing loss function (such as categorical_crossentropy or mse), or it can be an objective function.\n",
    "\n",
    "<b>A list of metrics</b> For any classification problem you will want to set this to metrics=['accuracy']. A metric could be the string identifier of an existing metric or a custom metric function.\n",
    "  \n",
    " </font>\n",
    " <i>\n",
    "  \n",
    "  Ref : https://keras.io/optimizers/\n",
    "  \n",
    "  Ref : https://keras.io/losses/"
   ]
  },
  {
   "cell_type": "code",
   "execution_count": 31,
   "metadata": {
    "collapsed": true
   },
   "outputs": [],
   "source": [
    "model.compile( optimizer = 'rmsprop', loss = 'categorical_crossentropy', metrics = ['accuracy'] )\n",
    "\n",
    "# Note: When using the categorical_crossentropy loss, our targets should be in categorical format \n",
    "# (e.g. if we have 10 classes, the target for each sample should be a 10-dimensional vector \n",
    "# that is all-zeros except for a 1 at the index corresponding to the class of the sample).\n",
    "\n",
    "# That is why we converted out labels into vectors"
   ]
  },
  {
   "cell_type": "markdown",
   "metadata": {},
   "source": [
    "<font size=3>\n",
    "Keras models are trained on Numpy arrays of input data and labels. For training a model, you will typically use the fit function. \n",
    "\n",
    "  \n",
    "```\n",
    "fit( x=None, y=None, batch_size=None, epochs=1, verbose=1, callbacks=None, \n",
    "  validation_split=0.0, validation_data=None, shuffle=True, class_weight=None,\n",
    "  sample_weight=None, initial_epoch=0, steps_per_epoch=None, validation_steps=None,\n",
    "  validation_freq=1)```\n",
    "  \n",
    "fit() function Trains the model for a fixed number of epochs (iterations on a dataset).\n",
    "\n",
    "it returns A History object. Its History.history attribute is a record of training loss values and \n",
    "metrics values at successive epochs, as well as validation loss values and validation metrics values (if applicable).\n",
    "\n"
   ]
  },
  {
   "cell_type": "code",
   "execution_count": 32,
   "metadata": {
    "scrolled": true
   },
   "outputs": [
    {
     "name": "stdout",
     "output_type": "stream",
     "text": [
      "WARNING:tensorflow:From C:\\Users\\Harsh\\AppData\\Roaming\\Python\\Python36\\site-packages\\tensorflow\\python\\ops\\math_ops.py:3066: to_int32 (from tensorflow.python.ops.math_ops) is deprecated and will be removed in a future version.\n",
      "Instructions for updating:\n",
      "Use tf.cast instead.\n",
      "Train on 7352 samples, validate on 2947 samples\n",
      "Epoch 1/30\n",
      "7352/7352 [==============================] - 21s 3ms/step - loss: 1.2949 - acc: 0.4596 - val_loss: 1.0717 - val_acc: 0.5850\n",
      "Epoch 2/30\n",
      "7352/7352 [==============================] - 21s 3ms/step - loss: 0.9270 - acc: 0.6250 - val_loss: 0.8835 - val_acc: 0.6732\n",
      "Epoch 3/30\n",
      "7352/7352 [==============================] - 20s 3ms/step - loss: 0.7795 - acc: 0.6851 - val_loss: 0.7331 - val_acc: 0.7167\n",
      "Epoch 4/30\n",
      "7352/7352 [==============================] - 20s 3ms/step - loss: 0.7499 - acc: 0.6835 - val_loss: 0.6568 - val_acc: 0.7177\n",
      "Epoch 5/30\n",
      "7352/7352 [==============================] - 23s 3ms/step - loss: 0.6143 - acc: 0.7500 - val_loss: 0.6804 - val_acc: 0.6977\n",
      "Epoch 6/30\n",
      "7352/7352 [==============================] - 20s 3ms/step - loss: 0.5406 - acc: 0.7924 - val_loss: 0.5561 - val_acc: 0.7577\n",
      "Epoch 7/30\n",
      "7352/7352 [==============================] - 21s 3ms/step - loss: 0.4966 - acc: 0.8357 - val_loss: 0.6124 - val_acc: 0.7886\n",
      "Epoch 8/30\n",
      "7352/7352 [==============================] - 24s 3ms/step - loss: 0.3758 - acc: 0.8955 - val_loss: 0.4255 - val_acc: 0.8622\n",
      "Epoch 9/30\n",
      "7352/7352 [==============================] - 19s 3ms/step - loss: 0.3480 - acc: 0.8979 - val_loss: 0.5771 - val_acc: 0.8157\n",
      "Epoch 10/30\n",
      "7352/7352 [==============================] - 20s 3ms/step - loss: 0.3047 - acc: 0.9097 - val_loss: 0.4823 - val_acc: 0.8595\n",
      "Epoch 11/30\n",
      "7352/7352 [==============================] - 21s 3ms/step - loss: 0.2751 - acc: 0.9206 - val_loss: 0.9683 - val_acc: 0.7805\n",
      "Epoch 12/30\n",
      "7352/7352 [==============================] - 20s 3ms/step - loss: 0.2652 - acc: 0.9184 - val_loss: 0.4424 - val_acc: 0.8673\n",
      "Epoch 13/30\n",
      "7352/7352 [==============================] - 19s 3ms/step - loss: 0.2416 - acc: 0.9298 - val_loss: 0.5071 - val_acc: 0.8578\n",
      "Epoch 14/30\n",
      "7352/7352 [==============================] - 20s 3ms/step - loss: 0.2665 - acc: 0.9197 - val_loss: 0.5486 - val_acc: 0.8616\n",
      "Epoch 15/30\n",
      "7352/7352 [==============================] - 21s 3ms/step - loss: 0.2388 - acc: 0.9276 - val_loss: 0.8464 - val_acc: 0.8001\n",
      "Epoch 16/30\n",
      "7352/7352 [==============================] - 20s 3ms/step - loss: 0.2728 - acc: 0.9202 - val_loss: 0.6011 - val_acc: 0.8347\n",
      "Epoch 17/30\n",
      "7352/7352 [==============================] - 20s 3ms/step - loss: 0.2672 - acc: 0.9229 - val_loss: 0.4871 - val_acc: 0.8680\n",
      "Epoch 18/30\n",
      "7352/7352 [==============================] - 21s 3ms/step - loss: 0.2114 - acc: 0.9338 - val_loss: 0.4811 - val_acc: 0.8792\n",
      "Epoch 19/30\n",
      "7352/7352 [==============================] - 18s 2ms/step - loss: 0.1940 - acc: 0.9395 - val_loss: 0.5122 - val_acc: 0.8853\n",
      "Epoch 20/30\n",
      "7352/7352 [==============================] - 18s 2ms/step - loss: 0.1963 - acc: 0.9400 - val_loss: 0.4213 - val_acc: 0.8907\n",
      "Epoch 21/30\n",
      "7352/7352 [==============================] - 20s 3ms/step - loss: 0.1754 - acc: 0.9421 - val_loss: 0.3794 - val_acc: 0.8928\n",
      "Epoch 22/30\n",
      "7352/7352 [==============================] - 20s 3ms/step - loss: 0.1633 - acc: 0.9456 - val_loss: 0.4086 - val_acc: 0.8982\n",
      "Epoch 23/30\n",
      "7352/7352 [==============================] - 20s 3ms/step - loss: 0.1889 - acc: 0.9382 - val_loss: 0.4308 - val_acc: 0.8989\n",
      "Epoch 24/30\n",
      "7352/7352 [==============================] - 21s 3ms/step - loss: 0.1672 - acc: 0.9445 - val_loss: 0.4398 - val_acc: 0.8968\n",
      "Epoch 25/30\n",
      "7352/7352 [==============================] - 21s 3ms/step - loss: 0.1748 - acc: 0.9430 - val_loss: 0.4686 - val_acc: 0.8887\n",
      "Epoch 26/30\n",
      "7352/7352 [==============================] - 20s 3ms/step - loss: 0.1734 - acc: 0.9437 - val_loss: 0.4587 - val_acc: 0.8979\n",
      "Epoch 27/30\n",
      "7352/7352 [==============================] - 21s 3ms/step - loss: 0.1847 - acc: 0.9399 - val_loss: 0.5000 - val_acc: 0.8968\n",
      "Epoch 28/30\n",
      "7352/7352 [==============================] - 20s 3ms/step - loss: 0.1638 - acc: 0.9445 - val_loss: 0.5005 - val_acc: 0.8890\n",
      "Epoch 29/30\n",
      "7352/7352 [==============================] - 19s 3ms/step - loss: 0.1695 - acc: 0.9453 - val_loss: 0.4303 - val_acc: 0.9013\n",
      "Epoch 30/30\n",
      "7352/7352 [==============================] - 21s 3ms/step - loss: 0.2531 - acc: 0.9348 - val_loss: 0.4604 - val_acc: 0.8962\n"
     ]
    },
    {
     "data": {
      "text/plain": [
       "<keras.callbacks.History at 0x1486f1fc748>"
      ]
     },
     "execution_count": 32,
     "metadata": {},
     "output_type": "execute_result"
    }
   ],
   "source": [
    "model.fit( xtr, ytr, batch, epoch, validation_data = (xte, yte) )  "
   ]
  },
  {
   "cell_type": "code",
   "execution_count": 58,
   "metadata": {
    "collapsed": true
   },
   "outputs": [],
   "source": [
    "import seaborn as sns\n",
    "import matplotlib.pyplot as plt"
   ]
  },
  {
   "cell_type": "code",
   "execution_count": 68,
   "metadata": {
    "collapsed": true
   },
   "outputs": [],
   "source": [
    "# Function to calculate and plot Confusion Matrix\n",
    "\n",
    "# Since plain confusion_matrix() dosen't work on multilabel data it gives error\n",
    "# Error : Classification metrics can't handle a mix of multilabel-indicator and continuous-multioutput targets\n",
    "\n",
    "# true labels corresponding with numeric value\n",
    "activity = { 0: 'Walking', 1: 'WalkingUpstairs', 2: 'WalkingDownstairs', 3: 'Sitting', 4: 'Standing', 5: 'Laying' }\n",
    "\n",
    "labels = [ 'Laying', 'Sitting', 'Standing', 'Walking', 'WalkingDownstairs', 'WalkingUpstairs' ]\n",
    "\n",
    "def cm( ytrue, ypred ):\n",
    "    \n",
    "\n",
    "    ytrue = pd.Series( [ activity[y] for y in np.argmax( ytrue, axis=1) ] )\n",
    "    ypred = pd.Series( [ activity[y] for y in np.argmax( ypred, axis=1) ] )\n",
    "\n",
    "    data = pd.crosstab( ytrue, ypred )\n",
    "\n",
    "    plt.figure( figsize = (12,6) )\n",
    "\n",
    "    sns.heatmap( data, annot = True, fmt=\".1f\", annot_kws={\"size\": 18}, xticklabels=labels, yticklabels=labels, cmap='Blues_r')\n",
    "    plt.xticks( rotation=90, size=15 )\n",
    "    plt.yticks( size=15 )\n",
    "    plt.ylabel('True label', size=18)\n",
    "    plt.xlabel('Predicted label', size=18)\n",
    "    plt.show()\n",
    "    \n",
    "    plt.close()"
   ]
  },
  {
   "cell_type": "code",
   "execution_count": 69,
   "metadata": {},
   "outputs": [
    {
     "data": {
      "image/png": "[encoded data removed]",
      "text/plain": [
       "<matplotlib.figure.Figure at 0x148798585c0>"
      ]
     },
     "metadata": {},
     "output_type": "display_data"
    }
   ],
   "source": [
    "ypred = model.predict(xte)\n",
    "cm( yte, ypred )"
   ]
  },
  {
   "cell_type": "code",
   "execution_count": 70,
   "metadata": {},
   "outputs": [
    {
     "name": "stdout",
     "output_type": "stream",
     "text": [
      "2947/2947 [==============================] - 1s 257us/step\n"
     ]
    }
   ],
   "source": [
    "score = model.evaluate( xte, yte)"
   ]
  },
  {
   "cell_type": "code",
   "execution_count": 71,
   "metadata": {},
   "outputs": [
    {
     "data": {
      "text/plain": [
       "[0.46036236338435865, 0.8961655921275874]"
      ]
     },
     "execution_count": 71,
     "metadata": {},
     "output_type": "execute_result"
    }
   ],
   "source": [
    "score"
   ]
  },
  {
   "cell_type": "markdown",
   "metadata": {},
   "source": [
    " Using Sequential Model with LSTM, Dropout and Dense layer we get an accuracy of 89.61 % and loss of 46 %"
   ]
  },
  {
   "cell_type": "markdown",
   "metadata": {},
   "source": [
    "## Hyperparameter Tuning"
   ]
  },
  {
   "cell_type": "code",
   "execution_count": null,
   "metadata": {
    "collapsed": true
   },
   "outputs": [],
   "source": [
    "hidden = 32\n",
    "timestamps = len( xtr[0] )\n",
    "ipdim = len( xtr[0][0] )\n",
    "opdim = 6"
   ]
  },
  {
   "cell_type": "markdown",
   "metadata": {},
   "source": [
    "### units in LSTM"
   ]
  },
  {
   "cell_type": "code",
   "execution_count": 85,
   "metadata": {
    "scrolled": true
   },
   "outputs": [
    {
     "name": "stdout",
     "output_type": "stream",
     "text": [
      "----------------------------------------  For units =  22  Scores are :-  -----------------------------------------------\n",
      "Train on 7352 samples, validate on 2947 samples\n",
      "Epoch 1/10\n",
      "7352/7352 [==============================] - 16s 2ms/step - loss: 1.4922 - acc: 0.3417 - val_loss: 1.3128 - val_acc: 0.3899\n",
      "Epoch 2/10\n",
      "7352/7352 [==============================] - 14s 2ms/step - loss: 1.1812 - acc: 0.4727 - val_loss: 1.1028 - val_acc: 0.4696\n",
      "Epoch 3/10\n",
      "7352/7352 [==============================] - 15s 2ms/step - loss: 1.0258 - acc: 0.5446 - val_loss: 0.9238 - val_acc: 0.5972\n",
      "Epoch 4/10\n",
      "7352/7352 [==============================] - 16s 2ms/step - loss: 0.8843 - acc: 0.6174 - val_loss: 0.8483 - val_acc: 0.6077\n",
      "Epoch 5/10\n",
      "7352/7352 [==============================] - 15s 2ms/step - loss: 0.7891 - acc: 0.6397 - val_loss: 0.7647 - val_acc: 0.6179\n",
      "Epoch 6/10\n",
      "7352/7352 [==============================] - 16s 2ms/step - loss: 0.7559 - acc: 0.6595 - val_loss: 0.7370 - val_acc: 0.6186\n",
      "Epoch 7/10\n",
      "7352/7352 [==============================] - 15s 2ms/step - loss: 0.7185 - acc: 0.6683 - val_loss: 0.7658 - val_acc: 0.6101\n",
      "Epoch 8/10\n",
      "7352/7352 [==============================] - 15s 2ms/step - loss: 0.7287 - acc: 0.6661 - val_loss: 0.7891 - val_acc: 0.6067\n",
      "Epoch 9/10\n",
      "7352/7352 [==============================] - 16s 2ms/step - loss: 0.7108 - acc: 0.6836 - val_loss: 0.6886 - val_acc: 0.6220\n",
      "Epoch 10/10\n",
      "7352/7352 [==============================] - 15s 2ms/step - loss: 0.6878 - acc: 0.6936 - val_loss: 0.6477 - val_acc: 0.6885\n",
      "2947/2947 [==============================] - 1s 283us/step\n",
      " Overall Score : \t Accuracy =  68.8497  % \t\tLoss =  64.7673  %\n",
      "\n",
      "\n",
      "\n",
      "----------------------------------------  For units =  42  Scores are :-  -----------------------------------------------\n",
      "Train on 7352 samples, validate on 2947 samples\n",
      "Epoch 1/10\n",
      "7352/7352 [==============================] - 20s 3ms/step - loss: 1.2997 - acc: 0.4366 - val_loss: 1.1595 - val_acc: 0.4523\n",
      "Epoch 2/10\n",
      "7352/7352 [==============================] - 18s 2ms/step - loss: 1.0783 - acc: 0.5143 - val_loss: 1.1358 - val_acc: 0.4808\n",
      "Epoch 3/10\n",
      "7352/7352 [==============================] - 17s 2ms/step - loss: 0.8940 - acc: 0.6172 - val_loss: 0.8379 - val_acc: 0.6390\n",
      "Epoch 4/10\n",
      "7352/7352 [==============================] - 17s 2ms/step - loss: 0.7135 - acc: 0.6927 - val_loss: 0.7424 - val_acc: 0.6685\n",
      "Epoch 5/10\n",
      "7352/7352 [==============================] - 17s 2ms/step - loss: 0.6222 - acc: 0.7535 - val_loss: 0.6990 - val_acc: 0.7431\n",
      "Epoch 6/10\n",
      "7352/7352 [==============================] - 17s 2ms/step - loss: 0.5103 - acc: 0.8341 - val_loss: 0.6802 - val_acc: 0.8005\n",
      "Epoch 7/10\n",
      "7352/7352 [==============================] - 18s 2ms/step - loss: 0.4188 - acc: 0.8734 - val_loss: 0.5105 - val_acc: 0.8514\n",
      "Epoch 8/10\n",
      "7352/7352 [==============================] - 19s 3ms/step - loss: 0.3500 - acc: 0.9017 - val_loss: 0.5653 - val_acc: 0.8283\n",
      "Epoch 9/10\n",
      "7352/7352 [==============================] - 17s 2ms/step - loss: 0.3260 - acc: 0.9034 - val_loss: 0.5302 - val_acc: 0.8741\n",
      "Epoch 10/10\n",
      "7352/7352 [==============================] - 18s 2ms/step - loss: 0.2681 - acc: 0.9158 - val_loss: 0.5273 - val_acc: 0.8707\n",
      "2947/2947 [==============================] - 1s 401us/step\n",
      " Overall Score : \t Accuracy =  87.0716  % \t\tLoss =  52.7289  %\n",
      "\n",
      "\n",
      "\n",
      "----------------------------------------  For units =  52  Scores are :-  -----------------------------------------------\n",
      "Train on 7352 samples, validate on 2947 samples\n",
      "Epoch 1/10\n",
      "7352/7352 [==============================] - 21s 3ms/step - loss: 1.2858 - acc: 0.4272 - val_loss: 1.1840 - val_acc: 0.4523\n",
      "Epoch 2/10\n",
      "7352/7352 [==============================] - 20s 3ms/step - loss: 1.0102 - acc: 0.5378 - val_loss: 0.9177 - val_acc: 0.5714\n",
      "Epoch 3/10\n",
      "7352/7352 [==============================] - 18s 2ms/step - loss: 0.7971 - acc: 0.6299 - val_loss: 0.8096 - val_acc: 0.6006\n",
      "Epoch 4/10\n",
      "7352/7352 [==============================] - 17s 2ms/step - loss: 0.7183 - acc: 0.6391 - val_loss: 0.7786 - val_acc: 0.6081\n",
      "Epoch 5/10\n",
      "7352/7352 [==============================] - 19s 3ms/step - loss: 0.7561 - acc: 0.6447 - val_loss: 0.7982 - val_acc: 0.6125\n",
      "Epoch 6/10\n",
      "7352/7352 [==============================] - 20s 3ms/step - loss: 0.6419 - acc: 0.6665 - val_loss: 0.7158 - val_acc: 0.6206\n",
      "Epoch 7/10\n",
      "7352/7352 [==============================] - 20s 3ms/step - loss: 0.5826 - acc: 0.6866 - val_loss: 0.6816 - val_acc: 0.6576\n",
      "Epoch 8/10\n",
      "7352/7352 [==============================] - 22s 3ms/step - loss: 0.5457 - acc: 0.7412 - val_loss: 0.6212 - val_acc: 0.7268\n",
      "Epoch 9/10\n",
      "7352/7352 [==============================] - 19s 3ms/step - loss: 0.4415 - acc: 0.8413 - val_loss: 0.4881 - val_acc: 0.8246\n",
      "Epoch 10/10\n",
      "7352/7352 [==============================] - 20s 3ms/step - loss: 0.3475 - acc: 0.8987 - val_loss: 0.6941 - val_acc: 0.8052\n",
      "2947/2947 [==============================] - 1s 370us/step\n",
      " Overall Score : \t Accuracy =  80.5226  % \t\tLoss =  69.4089  %\n",
      "\n",
      "\n",
      "\n"
     ]
    }
   ],
   "source": [
    "epoch = 10\n",
    "batch = 20\n",
    "units = [22, 42, 52]\n",
    "for i in units:\n",
    "    \n",
    "    print('-'*40,' For units = ', i, ' Scores are :- ','-'*47)\n",
    "    model = Sequential()\n",
    "\n",
    "    model.add( LSTM( i, input_shape = (timestamps, ipdim)))\n",
    "\n",
    "    # Adding a dropout layer\n",
    "    model.add( Dropout(0.5) )   # We use dropout layer to avoid Overfitting\n",
    "\n",
    "    # Adding a Dense output layer with Sigmoid activation\n",
    "    model.add( Dense( opdim, activation='sigmoid' ))  # here opdim = output dimension\n",
    "\n",
    "    model.compile( optimizer = 'rmsprop', loss = 'categorical_crossentropy', metrics = ['accuracy'] )\n",
    "    \n",
    "    model.fit( xtr, ytr, batch, epoch, validation_data = (xte, yte) )\n",
    "    \n",
    "    score = model.evaluate(xte, yte)\n",
    "    print( ' Overall Score : \\t Accuracy = ', np.round(score[1] * 100,4),' % \\t\\tLoss = ', np.round(score[0] * 100,4), ' %' )\n",
    "    \n",
    "    print('\\n\\n')"
   ]
  },
  {
   "cell_type": "markdown",
   "metadata": {},
   "source": [
    "### Dropout rate"
   ]
  },
  {
   "cell_type": "code",
   "execution_count": 87,
   "metadata": {},
   "outputs": [
    {
     "name": "stdout",
     "output_type": "stream",
     "text": [
      "-----------------------------------  For dropout rate =  0.2  Scores are :-  -----------------------------------------------\n",
      "Train on 7352 samples, validate on 2947 samples\n",
      "Epoch 1/10\n",
      "7352/7352 [==============================] - 18s 2ms/step - loss: 1.2747 - acc: 0.4550 - val_loss: 1.1946 - val_acc: 0.4415\n",
      "Epoch 2/10\n",
      "7352/7352 [==============================] - 16s 2ms/step - loss: 0.9305 - acc: 0.5847 - val_loss: 0.8690 - val_acc: 0.5918\n",
      "Epoch 3/10\n",
      "7352/7352 [==============================] - 17s 2ms/step - loss: 0.7321 - acc: 0.6715 - val_loss: 0.7703 - val_acc: 0.6919\n",
      "Epoch 4/10\n",
      "7352/7352 [==============================] - 17s 2ms/step - loss: 0.5892 - acc: 0.7542 - val_loss: 0.6805 - val_acc: 0.7526\n",
      "Epoch 5/10\n",
      "7352/7352 [==============================] - 17s 2ms/step - loss: 0.5571 - acc: 0.7828 - val_loss: 0.5909 - val_acc: 0.7648\n",
      "Epoch 6/10\n",
      "7352/7352 [==============================] - 17s 2ms/step - loss: 0.4598 - acc: 0.8245 - val_loss: 0.8408 - val_acc: 0.7727\n",
      "Epoch 7/10\n",
      "7352/7352 [==============================] - 17s 2ms/step - loss: 0.3723 - acc: 0.8794 - val_loss: 0.5010 - val_acc: 0.8446\n",
      "Epoch 8/10\n",
      "7352/7352 [==============================] - 17s 2ms/step - loss: 0.2922 - acc: 0.9095 - val_loss: 0.5233 - val_acc: 0.8266\n",
      "Epoch 9/10\n",
      "7352/7352 [==============================] - 17s 2ms/step - loss: 0.2468 - acc: 0.9271 - val_loss: 0.4398 - val_acc: 0.8738\n",
      "Epoch 10/10\n",
      "7352/7352 [==============================] - 17s 2ms/step - loss: 0.2142 - acc: 0.9310 - val_loss: 0.3412 - val_acc: 0.8996\n",
      "2947/2947 [==============================] - 1s 327us/step\n",
      " Overall Score : \t Accuracy =  89.9559  % \t\tLoss =  34.1244  %\n",
      "\n",
      "\n",
      "\n",
      "-----------------------------------  For dropout rate =  0.5  Scores are :-  -----------------------------------------------\n",
      "Train on 7352 samples, validate on 2947 samples\n",
      "Epoch 1/10\n",
      "7352/7352 [==============================] - 19s 3ms/step - loss: 1.3225 - acc: 0.4271 - val_loss: 1.1639 - val_acc: 0.5005\n",
      "Epoch 2/10\n",
      "7352/7352 [==============================] - 19s 3ms/step - loss: 1.1015 - acc: 0.5326 - val_loss: 1.0343 - val_acc: 0.6006\n",
      "Epoch 3/10\n",
      "7352/7352 [==============================] - 17s 2ms/step - loss: 0.8983 - acc: 0.6084 - val_loss: 0.9344 - val_acc: 0.6060\n",
      "Epoch 4/10\n",
      "7352/7352 [==============================] - 18s 2ms/step - loss: 0.8769 - acc: 0.6212 - val_loss: 1.3285 - val_acc: 0.4924\n",
      "Epoch 5/10\n",
      "7352/7352 [==============================] - 18s 3ms/step - loss: 0.7513 - acc: 0.6624 - val_loss: 0.7813 - val_acc: 0.6505\n",
      "Epoch 6/10\n",
      "7352/7352 [==============================] - 17s 2ms/step - loss: 0.6905 - acc: 0.6844 - val_loss: 0.7716 - val_acc: 0.6773\n",
      "Epoch 7/10\n",
      "7352/7352 [==============================] - 17s 2ms/step - loss: 0.6526 - acc: 0.7220 - val_loss: 0.7405 - val_acc: 0.6994\n",
      "Epoch 8/10\n",
      "7352/7352 [==============================] - 18s 2ms/step - loss: 0.5721 - acc: 0.7622 - val_loss: 0.6480 - val_acc: 0.7703\n",
      "Epoch 9/10\n",
      "7352/7352 [==============================] - 17s 2ms/step - loss: 0.4792 - acc: 0.8419 - val_loss: 0.6504 - val_acc: 0.8124\n",
      "Epoch 10/10\n",
      "7352/7352 [==============================] - 17s 2ms/step - loss: 0.4317 - acc: 0.8660 - val_loss: 0.4978 - val_acc: 0.8609\n",
      "2947/2947 [==============================] - 1s 340us/step\n",
      " Overall Score : \t Accuracy =  86.0875  % \t\tLoss =  49.7821  %\n",
      "\n",
      "\n",
      "\n",
      "-----------------------------------  For dropout rate =  0.7  Scores are :-  -----------------------------------------------\n",
      "Train on 7352 samples, validate on 2947 samples\n",
      "Epoch 1/10\n",
      "7352/7352 [==============================] - 21s 3ms/step - loss: 1.3580 - acc: 0.4410 - val_loss: 1.2218 - val_acc: 0.4411\n",
      "Epoch 2/10\n",
      "7352/7352 [==============================] - 18s 2ms/step - loss: 1.0683 - acc: 0.5378 - val_loss: 0.9313 - val_acc: 0.6257\n",
      "Epoch 3/10\n",
      "7352/7352 [==============================] - 19s 3ms/step - loss: 0.8924 - acc: 0.6055 - val_loss: 1.0336 - val_acc: 0.5545\n",
      "Epoch 4/10\n",
      "7352/7352 [==============================] - 19s 3ms/step - loss: 0.8774 - acc: 0.6162 - val_loss: 1.5900 - val_acc: 0.4713\n",
      "Epoch 5/10\n",
      "7352/7352 [==============================] - 19s 3ms/step - loss: 0.8129 - acc: 0.6317 - val_loss: 0.8157 - val_acc: 0.6247\n",
      "Epoch 6/10\n",
      "7352/7352 [==============================] - 19s 3ms/step - loss: 0.7466 - acc: 0.6591 - val_loss: 0.7797 - val_acc: 0.6094\n",
      "Epoch 7/10\n",
      "7352/7352 [==============================] - 18s 2ms/step - loss: 0.7880 - acc: 0.6458 - val_loss: 0.7930 - val_acc: 0.6230\n",
      "Epoch 8/10\n",
      "7352/7352 [==============================] - 18s 2ms/step - loss: 0.6874 - acc: 0.6755 - val_loss: 0.7579 - val_acc: 0.6237\n",
      "Epoch 9/10\n",
      "7352/7352 [==============================] - 18s 2ms/step - loss: 0.7002 - acc: 0.6893 - val_loss: 0.7174 - val_acc: 0.6787\n",
      "Epoch 10/10\n",
      "7352/7352 [==============================] - 18s 2ms/step - loss: 0.6240 - acc: 0.7474 - val_loss: 0.6312 - val_acc: 0.7927\n",
      "2947/2947 [==============================] - 1s 339us/step\n",
      " Overall Score : \t Accuracy =  79.2671  % \t\tLoss =  63.1202  %\n",
      "\n",
      "\n",
      "\n",
      "-----------------------------------  For dropout rate =  0.9  Scores are :-  -----------------------------------------------\n",
      "Train on 7352 samples, validate on 2947 samples\n",
      "Epoch 1/10\n",
      "7352/7352 [==============================] - 21s 3ms/step - loss: 1.5727 - acc: 0.3483 - val_loss: 1.3326 - val_acc: 0.4564\n",
      "Epoch 2/10\n",
      "7352/7352 [==============================] - 18s 2ms/step - loss: 1.3237 - acc: 0.4644 - val_loss: 1.0201 - val_acc: 0.6233\n",
      "Epoch 3/10\n",
      "7352/7352 [==============================] - 19s 3ms/step - loss: 1.1562 - acc: 0.5045 - val_loss: 1.0645 - val_acc: 0.5361\n",
      "Epoch 4/10\n",
      "7352/7352 [==============================] - 17s 2ms/step - loss: 1.0989 - acc: 0.5165 - val_loss: 0.8775 - val_acc: 0.5813\n",
      "Epoch 5/10\n",
      "7352/7352 [==============================] - 18s 2ms/step - loss: 1.0191 - acc: 0.5318 - val_loss: 0.8407 - val_acc: 0.5908\n",
      "Epoch 6/10\n",
      "7352/7352 [==============================] - 18s 2ms/step - loss: 0.9752 - acc: 0.5639 - val_loss: 1.2227 - val_acc: 0.5684\n",
      "Epoch 7/10\n",
      "7352/7352 [==============================] - 18s 2ms/step - loss: 0.9787 - acc: 0.5567 - val_loss: 0.8815 - val_acc: 0.5813\n",
      "Epoch 8/10\n",
      "7352/7352 [==============================] - 18s 2ms/step - loss: 0.9413 - acc: 0.5649 - val_loss: 0.8022 - val_acc: 0.6064\n",
      "Epoch 9/10\n",
      "7352/7352 [==============================] - 18s 2ms/step - loss: 0.9472 - acc: 0.5699 - val_loss: 0.8220 - val_acc: 0.6223\n",
      "Epoch 10/10\n",
      "7352/7352 [==============================] - 19s 3ms/step - loss: 0.9407 - acc: 0.5728 - val_loss: 0.8170 - val_acc: 0.6183\n",
      "2947/2947 [==============================] - 1s 347us/step\n",
      " Overall Score : \t Accuracy =  61.8256  % \t\tLoss =  81.702  %\n",
      "\n",
      "\n",
      "\n"
     ]
    }
   ],
   "source": [
    "epoch = 10\n",
    "batch = 20\n",
    "rate = [0.2, 0.5, 0.7, 0.9]\n",
    "for i in rate:\n",
    "    \n",
    "    print('-'*35,' For dropout rate = ', i, ' Scores are :- ','-'*47)\n",
    "    model = Sequential()\n",
    "\n",
    "    model.add( LSTM( 42, input_shape = (timestamps, ipdim)))\n",
    "\n",
    "    # Adding a dropout layer\n",
    "    model.add( Dropout(i) )   # We use dropout layer to avoid Overfitting\n",
    "\n",
    "    # Adding a Dense output layer with Sigmoid activation\n",
    "    model.add( Dense( opdim, activation='sigmoid' ))  # here opdim = output dimension\n",
    "\n",
    "    model.compile( optimizer = 'rmsprop', loss = 'categorical_crossentropy', metrics = ['accuracy'] )\n",
    "    \n",
    "    model.fit( xtr, ytr, batch, epoch, validation_data = (xte, yte) )\n",
    "    \n",
    "    score = model.evaluate(xte, yte)\n",
    "    print( ' Overall Score : \\t Accuracy = ', np.round(score[1] * 100,4),' % \\t\\tLoss = ', np.round(score[0] * 100,4), ' %' )\n",
    "    \n",
    "    print('\\n\\n')"
   ]
  },
  {
   "cell_type": "markdown",
   "metadata": {},
   "source": [
    "### Applying Best Hyperparameter"
   ]
  },
  {
   "cell_type": "code",
   "execution_count": 88,
   "metadata": {
    "scrolled": true
   },
   "outputs": [
    {
     "name": "stdout",
     "output_type": "stream",
     "text": [
      "Train on 7352 samples, validate on 2947 samples\n",
      "Epoch 1/30\n",
      "7352/7352 [==============================] - 19s 3ms/step - loss: 1.3272 - acc: 0.4104 - val_loss: 1.1789 - val_acc: 0.4489\n",
      "Epoch 2/30\n",
      "7352/7352 [==============================] - 16s 2ms/step - loss: 1.0275 - acc: 0.5075 - val_loss: 1.1199 - val_acc: 0.5256\n",
      "Epoch 3/30\n",
      "7352/7352 [==============================] - 18s 2ms/step - loss: 0.8212 - acc: 0.6183 - val_loss: 0.8551 - val_acc: 0.5833\n",
      "Epoch 4/30\n",
      "7352/7352 [==============================] - 17s 2ms/step - loss: 0.8014 - acc: 0.6126 - val_loss: 0.9373 - val_acc: 0.5490\n",
      "Epoch 5/30\n",
      "7352/7352 [==============================] - 18s 2ms/step - loss: 0.8025 - acc: 0.6362 - val_loss: 0.8170 - val_acc: 0.6725\n",
      "Epoch 6/30\n",
      "7352/7352 [==============================] - 18s 3ms/step - loss: 0.5798 - acc: 0.7500 - val_loss: 0.6770 - val_acc: 0.7309\n",
      "Epoch 7/30\n",
      "7352/7352 [==============================] - 19s 3ms/step - loss: 0.4614 - acc: 0.8035 - val_loss: 0.6184 - val_acc: 0.7913\n",
      "Epoch 8/30\n",
      "7352/7352 [==============================] - 18s 2ms/step - loss: 0.4025 - acc: 0.8407 - val_loss: 0.5656 - val_acc: 0.8202\n",
      "Epoch 9/30\n",
      "7352/7352 [==============================] - 20s 3ms/step - loss: 0.3446 - acc: 0.8713 - val_loss: 0.6223 - val_acc: 0.7947\n",
      "Epoch 10/30\n",
      "7352/7352 [==============================] - 19s 3ms/step - loss: 0.2921 - acc: 0.8976 - val_loss: 0.4172 - val_acc: 0.8677\n",
      "Epoch 11/30\n",
      "7352/7352 [==============================] - 21s 3ms/step - loss: 0.2519 - acc: 0.9116 - val_loss: 0.3270 - val_acc: 0.8904\n",
      "Epoch 12/30\n",
      "7352/7352 [==============================] - 21s 3ms/step - loss: 0.2129 - acc: 0.9280 - val_loss: 0.5505 - val_acc: 0.8470\n",
      "Epoch 13/30\n",
      "7352/7352 [==============================] - 18s 2ms/step - loss: 0.1877 - acc: 0.9350 - val_loss: 0.3174 - val_acc: 0.8958\n",
      "Epoch 14/30\n",
      "7352/7352 [==============================] - 18s 3ms/step - loss: 0.1833 - acc: 0.9370 - val_loss: 0.3209 - val_acc: 0.9016\n",
      "Epoch 15/30\n",
      "7352/7352 [==============================] - 19s 3ms/step - loss: 0.1776 - acc: 0.9384 - val_loss: 0.3727 - val_acc: 0.8938\n",
      "Epoch 16/30\n",
      "7352/7352 [==============================] - 19s 3ms/step - loss: 0.1749 - acc: 0.9406 - val_loss: 0.3792 - val_acc: 0.8904\n",
      "Epoch 17/30\n",
      "7352/7352 [==============================] - 19s 3ms/step - loss: 0.1560 - acc: 0.9429 - val_loss: 0.3999 - val_acc: 0.8962\n",
      "Epoch 18/30\n",
      "7352/7352 [==============================] - 19s 3ms/step - loss: 0.1556 - acc: 0.9431 - val_loss: 0.3136 - val_acc: 0.9104\n",
      "Epoch 19/30\n",
      "7352/7352 [==============================] - 20s 3ms/step - loss: 0.1459 - acc: 0.9472 - val_loss: 0.2960 - val_acc: 0.9074\n",
      "Epoch 20/30\n",
      "7352/7352 [==============================] - 20s 3ms/step - loss: 0.1592 - acc: 0.9416 - val_loss: 0.4575 - val_acc: 0.8758\n",
      "Epoch 21/30\n",
      "7352/7352 [==============================] - 20s 3ms/step - loss: 0.1396 - acc: 0.9498 - val_loss: 0.3274 - val_acc: 0.9040\n",
      "Epoch 22/30\n",
      "7352/7352 [==============================] - 18s 2ms/step - loss: 0.1304 - acc: 0.9499 - val_loss: 0.2650 - val_acc: 0.9199\n",
      "Epoch 23/30\n",
      "7352/7352 [==============================] - 18s 2ms/step - loss: 0.1520 - acc: 0.9463 - val_loss: 0.3623 - val_acc: 0.9091\n",
      "Epoch 24/30\n",
      "7352/7352 [==============================] - 20s 3ms/step - loss: 0.1331 - acc: 0.9512 - val_loss: 0.3509 - val_acc: 0.8979\n",
      "Epoch 25/30\n",
      "7352/7352 [==============================] - 18s 2ms/step - loss: 0.1322 - acc: 0.9513 - val_loss: 0.2976 - val_acc: 0.9101\n",
      "Epoch 26/30\n",
      "7352/7352 [==============================] - 17s 2ms/step - loss: 0.1268 - acc: 0.9502 - val_loss: 0.2552 - val_acc: 0.9199\n",
      "Epoch 27/30\n",
      "7352/7352 [==============================] - 19s 3ms/step - loss: 0.1211 - acc: 0.9527 - val_loss: 0.3308 - val_acc: 0.9077\n",
      "Epoch 28/30\n",
      "7352/7352 [==============================] - 19s 3ms/step - loss: 0.1266 - acc: 0.9508 - val_loss: 0.2813 - val_acc: 0.9165\n",
      "Epoch 29/30\n",
      "7352/7352 [==============================] - 20s 3ms/step - loss: 0.1288 - acc: 0.9489 - val_loss: 0.4482 - val_acc: 0.8928\n",
      "Epoch 30/30\n",
      "7352/7352 [==============================] - 18s 2ms/step - loss: 0.1152 - acc: 0.9558 - val_loss: 0.3738 - val_acc: 0.9040\n",
      "2947/2947 [==============================] - 1s 342us/step\n",
      " Overall Score : \t Accuracy =  90.397  % \t\tLoss =  37.3796  %\n"
     ]
    }
   ],
   "source": [
    "epoch = 30\n",
    "batch = 20\n",
    "\n",
    "model = Sequential()\n",
    "\n",
    "model.add( LSTM( 42, input_shape = (timestamps, ipdim)))\n",
    "\n",
    "# Adding a dropout layer\n",
    "model.add( Dropout(0.2) )   # We use dropout layer to avoid Overfitting\n",
    "\n",
    "# Adding a Dense output layer with Sigmoid activation\n",
    "model.add( Dense( opdim, activation='sigmoid' ))  # here opdim = output dimension\n",
    "\n",
    "model.compile( optimizer = 'rmsprop', loss = 'categorical_crossentropy', metrics = ['accuracy'] )\n",
    "\n",
    "model.fit( xtr, ytr, batch, epoch, validation_data = (xte, yte) )\n",
    "\n",
    "score = model.evaluate(xte, yte)\n",
    "print( ' Overall Score : \\t Accuracy = ', np.round(score[1] * 100,4),' % \\t\\tLoss = ', np.round(score[0] * 100,4), ' %' )\n"
   ]
  },
  {
   "cell_type": "code",
   "execution_count": 89,
   "metadata": {},
   "outputs": [
    {
     "data": {
      "image/png": "[encoded data removed]",
      "text/plain": [
       "<matplotlib.figure.Figure at 0x1480f9cec88>"
      ]
     },
     "metadata": {},
     "output_type": "display_data"
    }
   ],
   "source": [
    "ypred = model.predict(xte)\n",
    "cm( yte, ypred )"
   ]
  },
  {
   "cell_type": "markdown",
   "metadata": {},
   "source": [
    "## Adding another layer of LSTM"
   ]
  },
  {
   "cell_type": "code",
   "execution_count": 131,
   "metadata": {},
   "outputs": [
    {
     "name": "stdout",
     "output_type": "stream",
     "text": [
      "_________________________________________________________________\n",
      "Layer (type)                 Output Shape              Param #   \n",
      "=================================================================\n",
      "lstm_61 (LSTM)               (None, 128, 42)           8736      \n",
      "_________________________________________________________________\n",
      "dropout_51 (Dropout)         (None, 128, 42)           0         \n",
      "=================================================================\n",
      "Total params: 8,736\n",
      "Trainable params: 8,736\n",
      "Non-trainable params: 0\n",
      "_________________________________________________________________\n"
     ]
    }
   ],
   "source": [
    "epoch = 30\n",
    "\n",
    "model = Sequential()\n",
    "\n",
    "model.add( LSTM( 42, return_sequences = True, input_shape = (timestamps, ipdim)))\n",
    "\n",
    "# Adding a dropout layer\n",
    "model.add( Dropout(0.5) )   # We use dropout layer to avoid Overfitting\n",
    "\n",
    "model.summary()"
   ]
  },
  {
   "cell_type": "code",
   "execution_count": 132,
   "metadata": {},
   "outputs": [
    {
     "name": "stdout",
     "output_type": "stream",
     "text": [
      "_________________________________________________________________\n",
      "Layer (type)                 Output Shape              Param #   \n",
      "=================================================================\n",
      "lstm_61 (LSTM)               (None, 128, 42)           8736      \n",
      "_________________________________________________________________\n",
      "dropout_51 (Dropout)         (None, 128, 42)           0         \n",
      "_________________________________________________________________\n",
      "lstm_62 (LSTM)               (None, 32)                9600      \n",
      "_________________________________________________________________\n",
      "dropout_52 (Dropout)         (None, 32)                0         \n",
      "_________________________________________________________________\n",
      "dense_49 (Dense)             (None, 6)                 198       \n",
      "=================================================================\n",
      "Total params: 18,534\n",
      "Trainable params: 18,534\n",
      "Non-trainable params: 0\n",
      "_________________________________________________________________\n"
     ]
    }
   ],
   "source": [
    "model.add( LSTM( 32) )\n",
    "\n",
    "# Adding a dropout layer\n",
    "model.add( Dropout(0.5) )   # We use dropout layer to avoid Overfitting\n",
    "\n",
    "# Adding a Dense output layer with Sigmoid activation\n",
    "model.add( Dense( opdim, activation='sigmoid' ))  # here opdim = output dimension\n",
    "\n",
    "model.compile( optimizer = 'rmsprop', loss = 'categorical_crossentropy', metrics = ['accuracy'] )\n",
    "model.summary()"
   ]
  },
  {
   "cell_type": "code",
   "execution_count": 133,
   "metadata": {
    "scrolled": true
   },
   "outputs": [
    {
     "name": "stdout",
     "output_type": "stream",
     "text": [
      "Train on 7352 samples, validate on 2947 samples\n",
      "Epoch 1/30\n",
      "7352/7352 [==============================] - 40s 5ms/step - loss: 1.2591 - acc: 0.4626 - val_loss: 1.0542 - val_acc: 0.5640\n",
      "Epoch 2/30\n",
      "7352/7352 [==============================] - 36s 5ms/step - loss: 0.8869 - acc: 0.6113 - val_loss: 0.7855 - val_acc: 0.6729\n",
      "Epoch 3/30\n",
      "7352/7352 [==============================] - 36s 5ms/step - loss: 0.7599 - acc: 0.6250 - val_loss: 0.9188 - val_acc: 0.6342\n",
      "Epoch 4/30\n",
      "7352/7352 [==============================] - 36s 5ms/step - loss: 0.7001 - acc: 0.6579 - val_loss: 0.7011 - val_acc: 0.6081\n",
      "Epoch 5/30\n",
      "7352/7352 [==============================] - 37s 5ms/step - loss: 0.6535 - acc: 0.7038 - val_loss: 0.6427 - val_acc: 0.7394\n",
      "Epoch 6/30\n",
      "7352/7352 [==============================] - 36s 5ms/step - loss: 0.5830 - acc: 0.7485 - val_loss: 0.7194 - val_acc: 0.6508\n",
      "Epoch 7/30\n",
      "7352/7352 [==============================] - 36s 5ms/step - loss: 0.5115 - acc: 0.7661 - val_loss: 0.6406 - val_acc: 0.7340\n",
      "Epoch 8/30\n",
      "7352/7352 [==============================] - 38s 5ms/step - loss: 0.4574 - acc: 0.7913 - val_loss: 0.5614 - val_acc: 0.7567\n",
      "Epoch 9/30\n",
      "7352/7352 [==============================] - 37s 5ms/step - loss: 0.3833 - acc: 0.8322 - val_loss: 0.5495 - val_acc: 0.8626\n",
      "Epoch 10/30\n",
      "7352/7352 [==============================] - 37s 5ms/step - loss: 0.3006 - acc: 0.9056 - val_loss: 0.4632 - val_acc: 0.8677\n",
      "Epoch 11/30\n",
      "7352/7352 [==============================] - 37s 5ms/step - loss: 0.2768 - acc: 0.9248 - val_loss: 0.3974 - val_acc: 0.8870\n",
      "Epoch 12/30\n",
      "7352/7352 [==============================] - 37s 5ms/step - loss: 0.2230 - acc: 0.9331 - val_loss: 0.4866 - val_acc: 0.8843\n",
      "Epoch 13/30\n",
      "7352/7352 [==============================] - 37s 5ms/step - loss: 0.2071 - acc: 0.9343 - val_loss: 0.4047 - val_acc: 0.8887\n",
      "Epoch 14/30\n",
      "7352/7352 [==============================] - 37s 5ms/step - loss: 0.1849 - acc: 0.9387 - val_loss: 0.3902 - val_acc: 0.9057\n",
      "Epoch 15/30\n",
      "7352/7352 [==============================] - 37s 5ms/step - loss: 0.1884 - acc: 0.9406 - val_loss: 0.3608 - val_acc: 0.8958\n",
      "Epoch 16/30\n",
      "7352/7352 [==============================] - 37s 5ms/step - loss: 0.1753 - acc: 0.9444 - val_loss: 0.3225 - val_acc: 0.9148\n",
      "Epoch 17/30\n",
      "7352/7352 [==============================] - 37s 5ms/step - loss: 0.1537 - acc: 0.9486 - val_loss: 0.5068 - val_acc: 0.8880\n",
      "Epoch 18/30\n",
      "7352/7352 [==============================] - 37s 5ms/step - loss: 0.1585 - acc: 0.9478 - val_loss: 0.3392 - val_acc: 0.9006\n",
      "Epoch 19/30\n",
      "7352/7352 [==============================] - 37s 5ms/step - loss: 0.1533 - acc: 0.9471 - val_loss: 0.3299 - val_acc: 0.9213\n",
      "Epoch 20/30\n",
      "7352/7352 [==============================] - 39s 5ms/step - loss: 0.1525 - acc: 0.9440 - val_loss: 0.3776 - val_acc: 0.9060\n",
      "Epoch 21/30\n",
      "7352/7352 [==============================] - 39s 5ms/step - loss: 0.1457 - acc: 0.9490 - val_loss: 0.3660 - val_acc: 0.9053\n",
      "Epoch 22/30\n",
      "7352/7352 [==============================] - 36s 5ms/step - loss: 0.1821 - acc: 0.9457 - val_loss: 0.7861 - val_acc: 0.8714\n",
      "Epoch 23/30\n",
      "7352/7352 [==============================] - 39s 5ms/step - loss: 0.1625 - acc: 0.9475 - val_loss: 0.3684 - val_acc: 0.9067\n",
      "Epoch 24/30\n",
      "7352/7352 [==============================] - 38s 5ms/step - loss: 0.1554 - acc: 0.9471 - val_loss: 0.4076 - val_acc: 0.9128\n",
      "Epoch 25/30\n",
      "7352/7352 [==============================] - 39s 5ms/step - loss: 0.1444 - acc: 0.9490 - val_loss: 0.4205 - val_acc: 0.9131\n",
      "Epoch 26/30\n",
      "7352/7352 [==============================] - 43s 6ms/step - loss: 0.1616 - acc: 0.9455 - val_loss: 0.4695 - val_acc: 0.9158\n",
      "Epoch 27/30\n",
      "7352/7352 [==============================] - 40s 5ms/step - loss: 0.1319 - acc: 0.9470 - val_loss: 0.5802 - val_acc: 0.9043\n",
      "Epoch 28/30\n",
      "7352/7352 [==============================] - 38s 5ms/step - loss: 0.1527 - acc: 0.9457 - val_loss: 0.4282 - val_acc: 0.9141\n",
      "Epoch 29/30\n",
      "7352/7352 [==============================] - 37s 5ms/step - loss: 0.1404 - acc: 0.9524 - val_loss: 0.4093 - val_acc: 0.9199\n",
      "Epoch 30/30\n",
      "7352/7352 [==============================] - 37s 5ms/step - loss: 0.1391 - acc: 0.9513 - val_loss: 0.4353 - val_acc: 0.9084\n",
      "2947/2947 [==============================] - 2s 674us/step\n",
      " Overall Score : \t Accuracy =  90.8381  % \t\tLoss =  43.529  %\n"
     ]
    }
   ],
   "source": [
    "model.compile( optimizer = 'rmsprop', loss = 'categorical_crossentropy', metrics = ['accuracy'] )\n",
    "\n",
    "model.fit( xtr, ytr, batch, epoch, validation_data = (xte, yte) )\n",
    "\n",
    "score = model.evaluate(xte, yte)\n",
    "print( ' Overall Score : \\t Accuracy = ', np.round(score[1] * 100,4),' % \\t\\tLoss = ', np.round(score[0] * 100,4), ' %' )\n"
   ]
  },
  {
   "cell_type": "code",
   "execution_count": 134,
   "metadata": {},
   "outputs": [
    {
     "data": {
      "image/png": "[encoded data removed]",
      "text/plain": [
       "<matplotlib.figure.Figure at 0x1482c880438>"
      ]
     },
     "metadata": {},
     "output_type": "display_data"
    }
   ],
   "source": [
    "ypred = model.predict(xte)\n",
    "cm( yte, ypred )"
   ]
  },
  {
   "cell_type": "markdown",
   "metadata": {},
   "source": [
    "## CNN"
   ]
  },
  {
   "cell_type": "code",
   "execution_count": 10,
   "metadata": {
    "collapsed": true
   },
   "outputs": [],
   "source": [
    "# Initializing the parameters\n",
    "epochs = 30\n",
    "batch = 16\n",
    "hidden = 32"
   ]
  },
  {
   "cell_type": "code",
   "execution_count": 13,
   "metadata": {},
   "outputs": [
    {
     "name": "stdout",
     "output_type": "stream",
     "text": [
      "128\n",
      "9\n"
     ]
    },
    {
     "data": {
      "text/plain": [
       "(7352, 128, 9)"
      ]
     },
     "execution_count": 13,
     "metadata": {},
     "output_type": "execute_result"
    }
   ],
   "source": [
    "print( timestamps )\n",
    "print( ipdim )\n",
    "xtr.shape"
   ]
  },
  {
   "cell_type": "code",
   "execution_count": 14,
   "metadata": {},
   "outputs": [
    {
     "name": "stdout",
     "output_type": "stream",
     "text": [
      "(7352, 128, 9, 1)\n",
      "(2947, 128, 9, 1)\n"
     ]
    }
   ],
   "source": [
    "xtr = xtr.reshape( xtr.shape[0], 128, 9, 1 )\n",
    "xte = xte.reshape( xte.shape[0], 128, 9, 1 )\n",
    "\n",
    "ipShape = ( 128, 9, 1 )\n",
    "\n",
    "print( xtr.shape )\n",
    "print( xte.shape )"
   ]
  },
  {
   "cell_type": "raw",
   "metadata": {},
   "source": [
    "# Convert class vectors to binary class matrices\n",
    "classes = 6\n",
    "ytr = keras.utils.to_categorical( ytr, classes )\n",
    "yte = keras.utils.to_categorical( yte, classes )"
   ]
  },
  {
   "cell_type": "code",
   "execution_count": 15,
   "metadata": {},
   "outputs": [
    {
     "name": "stdout",
     "output_type": "stream",
     "text": [
      "(7352, 6)\n",
      "(2947, 6)\n"
     ]
    },
    {
     "data": {
      "text/plain": [
       "array([0, 0, 0, 0, 1, 0], dtype=uint8)"
      ]
     },
     "execution_count": 15,
     "metadata": {},
     "output_type": "execute_result"
    }
   ],
   "source": [
    "print( ytr.shape )\n",
    "print( yte.shape )\n",
    "\n",
    "ytr[0]"
   ]
  },
  {
   "cell_type": "markdown",
   "metadata": {},
   "source": [
    "<br>\n",
    "<font size=3> <b>Conv2D</b>\n",
    "\n",
    "2D convolution layer (e.g. spatial convolution over images) <br><br>\n",
    "\n",
    "This layer creates a convolution kernel that is convolved with the layer input to produce a tensor of outputs. \n",
    "  <br>If use_bias is True, a bias vector is created and added to the outputs. Finally, if activation is not None, it is applied to the outputs as well.<br><br>\n",
    "\n",
    "When using this layer as the first layer in a model, provide the keyword argument input_shape (tuple of integers, does not include the batch axis), e.g. input_shape=(128, 128, 3) for 128x128 RGB pictures in data_format=\"channels_last\".\n",
    "  \n",
    "  </font>\n",
    "  \n",
    "\n",
    "\n",
    "```\n",
    "keras.layers.Conv2D( filters, kernel_size, strides=(1, 1),    \n",
    "                     padding='valid', data_format=None, dilation_rate=(1, 1),      \n",
    "                     activation=None, use_bias=True, \n",
    "                     kernel_initializer='glorot_uniform', bias_initializer='zeros', \n",
    "                     kernel_regularizer=None, bias_regularizer=None, \n",
    "                     activity_regularizer=None,   \n",
    "                     kernel_constraint=None, bias_constraint=None )\n",
    "```\n",
    "\n",
    " \n",
    "<i> Ref : https://keras.io/layers/convolutional/"
   ]
  },
  {
   "cell_type": "markdown",
   "metadata": {},
   "source": [
    "### CNN : 2 Layered"
   ]
  },
  {
   "cell_type": "code",
   "execution_count": 57,
   "metadata": {
    "collapsed": true
   },
   "outputs": [],
   "source": [
    "from keras.models import Sequential\n",
    "from keras.layers import Dense, Dropout, Flatten\n",
    "from keras.layers import Conv2D, MaxPooling2D\n",
    "\n",
    "\n",
    "model = Sequential()\n",
    "\n",
    "model.add( Conv2D( 32, kernel_size = (3, 3), activation='relu', input_shape = ipShape ))\n",
    "model.add( Conv2D( 64, (3, 3), activation='relu' ))"
   ]
  },
  {
   "cell_type": "code",
   "execution_count": 58,
   "metadata": {
    "collapsed": true
   },
   "outputs": [],
   "source": [
    "#model.add( MaxPooling2D( pool_size = (2, 2) )) # Max pooling operation for spatial data.\n",
    "\n",
    "model.add( Dropout(0.25) )\n",
    "model.add( Flatten() )\n",
    "model.add( Dense( 128, activation='relu' ))\n",
    "model.add( Dropout(0.5))\n",
    "model.add( Dense( classes, activation='softmax' ))"
   ]
  },
  {
   "cell_type": "code",
   "execution_count": 59,
   "metadata": {},
   "outputs": [
    {
     "name": "stdout",
     "output_type": "stream",
     "text": [
      "_________________________________________________________________\n",
      "Layer (type)                 Output Shape              Param #   \n",
      "=================================================================\n",
      "conv2d_16 (Conv2D)           (None, 126, 7, 32)        320       \n",
      "_________________________________________________________________\n",
      "conv2d_17 (Conv2D)           (None, 124, 5, 64)        18496     \n",
      "_________________________________________________________________\n",
      "dropout_13 (Dropout)         (None, 124, 5, 64)        0         \n",
      "_________________________________________________________________\n",
      "flatten_6 (Flatten)          (None, 39680)             0         \n",
      "_________________________________________________________________\n",
      "dense_13 (Dense)             (None, 128)               5079168   \n",
      "_________________________________________________________________\n",
      "dropout_14 (Dropout)         (None, 128)               0         \n",
      "_________________________________________________________________\n",
      "dense_14 (Dense)             (None, 6)                 774       \n",
      "=================================================================\n",
      "Total params: 5,098,758\n",
      "Trainable params: 5,098,758\n",
      "Non-trainable params: 0\n",
      "_________________________________________________________________\n"
     ]
    }
   ],
   "source": [
    "model.summary()"
   ]
  },
  {
   "cell_type": "code",
   "execution_count": 60,
   "metadata": {
    "collapsed": true
   },
   "outputs": [],
   "source": [
    "model.compile( loss=keras.losses.categorical_crossentropy, optimizer=keras.optimizers.Adadelta(), metrics=['accuracy'] )"
   ]
  },
  {
   "cell_type": "code",
   "execution_count": 61,
   "metadata": {},
   "outputs": [
    {
     "name": "stdout",
     "output_type": "stream",
     "text": [
      "WARNING:tensorflow:From C:\\Users\\Harsh\\AppData\\Roaming\\Python\\Python36\\site-packages\\tensorflow\\python\\ops\\math_ops.py:3066: to_int32 (from tensorflow.python.ops.math_ops) is deprecated and will be removed in a future version.\n",
      "Instructions for updating:\n",
      "Use tf.cast instead.\n",
      "Train on 7352 samples, validate on 2947 samples\n",
      "Epoch 1/30\n",
      "7352/7352 [==============================] - 94s 13ms/step - loss: 0.5116 - acc: 0.7890 - val_loss: 0.4896 - val_acc: 0.8249\n",
      "Epoch 2/30\n",
      "7352/7352 [==============================] - 92s 13ms/step - loss: 0.1995 - acc: 0.9245 - val_loss: 0.3589 - val_acc: 0.8856\n",
      "Epoch 3/30\n",
      "7352/7352 [==============================] - 99s 13ms/step - loss: 0.1493 - acc: 0.9427 - val_loss: 0.4630 - val_acc: 0.8890\n",
      "Epoch 4/30\n",
      "7352/7352 [==============================] - 100s 14ms/step - loss: 0.1376 - acc: 0.9461 - val_loss: 0.5785 - val_acc: 0.8843\n",
      "Epoch 5/30\n",
      "7352/7352 [==============================] - 99s 13ms/step - loss: 0.1215 - acc: 0.9513 - val_loss: 0.4674 - val_acc: 0.8962\n",
      "Epoch 6/30\n",
      "7352/7352 [==============================] - 98s 13ms/step - loss: 0.1172 - acc: 0.9538 - val_loss: 0.4617 - val_acc: 0.9104\n",
      "Epoch 7/30\n",
      "7352/7352 [==============================] - 99s 13ms/step - loss: 0.1140 - acc: 0.9536 - val_loss: 0.4822 - val_acc: 0.9016\n",
      "Epoch 8/30\n",
      "7352/7352 [==============================] - 94s 13ms/step - loss: 0.1051 - acc: 0.9546 - val_loss: 0.4309 - val_acc: 0.9209\n",
      "Epoch 9/30\n",
      "7352/7352 [==============================] - 108s 15ms/step - loss: 0.0980 - acc: 0.9578 - val_loss: 0.4631 - val_acc: 0.9158\n",
      "Epoch 10/30\n",
      "7352/7352 [==============================] - 98s 13ms/step - loss: 0.0941 - acc: 0.9587 - val_loss: 0.5454 - val_acc: 0.8714\n",
      "Epoch 11/30\n",
      "7352/7352 [==============================] - 110s 15ms/step - loss: 0.0856 - acc: 0.9637 - val_loss: 0.6113 - val_acc: 0.9046\n",
      "Epoch 12/30\n",
      "7352/7352 [==============================] - 104s 14ms/step - loss: 0.0825 - acc: 0.9625 - val_loss: 0.5649 - val_acc: 0.9060\n",
      "Epoch 13/30\n",
      "7352/7352 [==============================] - 101s 14ms/step - loss: 0.0757 - acc: 0.9690 - val_loss: 0.5612 - val_acc: 0.9043\n",
      "Epoch 14/30\n",
      "7352/7352 [==============================] - 98s 13ms/step - loss: 0.0706 - acc: 0.9705 - val_loss: 0.5063 - val_acc: 0.9172\n",
      "Epoch 15/30\n",
      "7352/7352 [==============================] - 100s 14ms/step - loss: 0.0706 - acc: 0.9693 - val_loss: 0.6804 - val_acc: 0.8928\n",
      "Epoch 16/30\n",
      "7352/7352 [==============================] - 99s 13ms/step - loss: 0.0653 - acc: 0.9713 - val_loss: 0.7500 - val_acc: 0.8972\n",
      "Epoch 17/30\n",
      "7352/7352 [==============================] - 94s 13ms/step - loss: 0.0606 - acc: 0.9754 - val_loss: 0.6618 - val_acc: 0.9111\n",
      "Epoch 18/30\n",
      "7352/7352 [==============================] - 93s 13ms/step - loss: 0.0538 - acc: 0.9799 - val_loss: 0.5702 - val_acc: 0.9128\n",
      "Epoch 19/30\n",
      "7352/7352 [==============================] - 108s 15ms/step - loss: 0.0495 - acc: 0.9814 - val_loss: 0.6515 - val_acc: 0.9186\n",
      "Epoch 20/30\n",
      "7352/7352 [==============================] - 95s 13ms/step - loss: 0.0553 - acc: 0.9788 - val_loss: 0.6233 - val_acc: 0.9196\n",
      "Epoch 21/30\n",
      "7352/7352 [==============================] - 95s 13ms/step - loss: 0.0500 - acc: 0.9795 - val_loss: 0.5873 - val_acc: 0.9281\n",
      "Epoch 22/30\n",
      "7352/7352 [==============================] - 94s 13ms/step - loss: 0.0492 - acc: 0.9803 - val_loss: 0.6531 - val_acc: 0.9206\n",
      "Epoch 23/30\n",
      "7352/7352 [==============================] - 94s 13ms/step - loss: 0.0411 - acc: 0.9833 - val_loss: 0.6105 - val_acc: 0.9121\n",
      "Epoch 24/30\n",
      "7352/7352 [==============================] - 94s 13ms/step - loss: 0.0451 - acc: 0.9837 - val_loss: 0.6530 - val_acc: 0.9199\n",
      "Epoch 25/30\n",
      "7352/7352 [==============================] - 93s 13ms/step - loss: 0.0405 - acc: 0.9849 - val_loss: 0.5745 - val_acc: 0.9145\n",
      "Epoch 26/30\n",
      "7352/7352 [==============================] - 94s 13ms/step - loss: 0.0399 - acc: 0.9857 - val_loss: 0.6437 - val_acc: 0.9216\n",
      "Epoch 27/30\n",
      "7352/7352 [==============================] - 93s 13ms/step - loss: 0.0340 - acc: 0.9879 - val_loss: 0.6473 - val_acc: 0.9087\n",
      "Epoch 28/30\n",
      "7352/7352 [==============================] - 94s 13ms/step - loss: 0.0378 - acc: 0.9865 - val_loss: 0.5950 - val_acc: 0.9230\n",
      "Epoch 29/30\n",
      "7352/7352 [==============================] - 91s 12ms/step - loss: 0.0349 - acc: 0.9869 - val_loss: 0.6059 - val_acc: 0.9131\n",
      "Epoch 30/30\n",
      "7352/7352 [==============================] - 92s 12ms/step - loss: 0.0324 - acc: 0.9869 - val_loss: 0.7130 - val_acc: 0.9141\n"
     ]
    }
   ],
   "source": [
    "history = model.fit( xtr, ytr, batch_size=batch, epochs=epochs, verbose=1, validation_data=(xte, yte) )"
   ]
  },
  {
   "cell_type": "code",
   "execution_count": 62,
   "metadata": {},
   "outputs": [
    {
     "name": "stdout",
     "output_type": "stream",
     "text": [
      " Test loss :  71.29525805508405  %   Test accuracy :  91.4149983053819  %\n"
     ]
    }
   ],
   "source": [
    "score = model.evaluate( xte, yte, verbose = 0 )\n",
    "# Returns the loss value & metrics values for the model in test mode. Computation is done in batches.\n",
    "# evaluate(x=None, y=None, batch_size=None, verbose=1, sample_weight=None, steps=None, callbacks=None)\n",
    "print(' Test loss : ', score[0] * 100, ' %   Test accuracy : ', score[1] * 100, ' %')"
   ]
  },
  {
   "cell_type": "markdown",
   "metadata": {
    "collapsed": true
   },
   "source": [
    "### CNN : 3 Layered"
   ]
  },
  {
   "cell_type": "code",
   "execution_count": 73,
   "metadata": {
    "collapsed": true
   },
   "outputs": [],
   "source": [
    "from keras.layers.normalization import BatchNormalization\n",
    "\n",
    "model = Sequential()\n",
    "\n",
    "model.add( Conv2D( 32, kernel_size = (3, 3), activation='relu', input_shape = ipShape ))\n",
    "model.add( Conv2D( 64, (3, 3), activation='relu' ))\n",
    "model.add( BatchNormalization() )\n",
    "\n",
    "\n",
    "model.add( Dropout(0.5) )\n",
    "model.add( Conv2D( 98, (3, 3), activation='relu' ))\n",
    "model.add( BatchNormalization() )\n",
    "\n",
    "model.add( MaxPooling2D( pool_size = (2, 2) )) # Max pooling operation for spatial data.\n",
    "model.add( Dropout(0.5) )\n",
    "model.add( Flatten() )\n",
    "model.add( Dense( 128, activation='relu' ))\n",
    "model.add( Dropout(0.5))\n",
    "model.add( Dense( classes, activation='softmax' ))"
   ]
  },
  {
   "cell_type": "code",
   "execution_count": 74,
   "metadata": {},
   "outputs": [
    {
     "name": "stdout",
     "output_type": "stream",
     "text": [
      "_________________________________________________________________\n",
      "Layer (type)                 Output Shape              Param #   \n",
      "=================================================================\n",
      "conv2d_38 (Conv2D)           (None, 126, 7, 32)        320       \n",
      "_________________________________________________________________\n",
      "conv2d_39 (Conv2D)           (None, 124, 5, 64)        18496     \n",
      "_________________________________________________________________\n",
      "batch_normalization_1 (Batch (None, 124, 5, 64)        256       \n",
      "_________________________________________________________________\n",
      "dropout_25 (Dropout)         (None, 124, 5, 64)        0         \n",
      "_________________________________________________________________\n",
      "conv2d_40 (Conv2D)           (None, 122, 3, 98)        56546     \n",
      "_________________________________________________________________\n",
      "batch_normalization_2 (Batch (None, 122, 3, 98)        392       \n",
      "_________________________________________________________________\n",
      "max_pooling2d_8 (MaxPooling2 (None, 61, 1, 98)         0         \n",
      "_________________________________________________________________\n",
      "dropout_26 (Dropout)         (None, 61, 1, 98)         0         \n",
      "_________________________________________________________________\n",
      "flatten_12 (Flatten)         (None, 5978)              0         \n",
      "_________________________________________________________________\n",
      "dense_21 (Dense)             (None, 128)               765312    \n",
      "_________________________________________________________________\n",
      "dropout_27 (Dropout)         (None, 128)               0         \n",
      "_________________________________________________________________\n",
      "dense_22 (Dense)             (None, 6)                 774       \n",
      "=================================================================\n",
      "Total params: 842,096\n",
      "Trainable params: 841,772\n",
      "Non-trainable params: 324\n",
      "_________________________________________________________________\n"
     ]
    }
   ],
   "source": [
    "model.summary()"
   ]
  },
  {
   "cell_type": "code",
   "execution_count": 75,
   "metadata": {
    "collapsed": true
   },
   "outputs": [],
   "source": [
    "model.compile( loss=keras.losses.categorical_crossentropy, optimizer=keras.optimizers.Adadelta(), metrics=['accuracy'] )"
   ]
  },
  {
   "cell_type": "code",
   "execution_count": 76,
   "metadata": {
    "collapsed": true
   },
   "outputs": [],
   "source": [
    "batch = 30"
   ]
  },
  {
   "cell_type": "code",
   "execution_count": 77,
   "metadata": {},
   "outputs": [
    {
     "name": "stdout",
     "output_type": "stream",
     "text": [
      "Train on 7352 samples, validate on 2947 samples\n",
      "Epoch 1/30\n",
      "7352/7352 [==============================] - 117s 16ms/step - loss: 0.9668 - acc: 0.6500 - val_loss: 0.9700 - val_acc: 0.6508\n",
      "Epoch 2/30\n",
      "7352/7352 [==============================] - 121s 16ms/step - loss: 0.5322 - acc: 0.7927 - val_loss: 1.1245 - val_acc: 0.6600\n",
      "Epoch 3/30\n",
      "7352/7352 [==============================] - 115s 16ms/step - loss: 0.3263 - acc: 0.8803 - val_loss: 0.4748 - val_acc: 0.8436\n",
      "Epoch 4/30\n",
      "7352/7352 [==============================] - 131s 18ms/step - loss: 0.2319 - acc: 0.9120 - val_loss: 0.3607 - val_acc: 0.8663\n",
      "Epoch 5/30\n",
      "7352/7352 [==============================] - 150s 20ms/step - loss: 0.2020 - acc: 0.9237 - val_loss: 0.3636 - val_acc: 0.9087\n",
      "Epoch 6/30\n",
      "7352/7352 [==============================] - 163s 22ms/step - loss: 0.1862 - acc: 0.9316 - val_loss: 0.3730 - val_acc: 0.9158\n",
      "Epoch 7/30\n",
      "7352/7352 [==============================] - 173s 23ms/step - loss: 0.1690 - acc: 0.9368 - val_loss: 0.3067 - val_acc: 0.8914\n",
      "Epoch 8/30\n",
      "7352/7352 [==============================] - 191s 26ms/step - loss: 0.1600 - acc: 0.9437 - val_loss: 0.4393 - val_acc: 0.8948\n",
      "Epoch 9/30\n",
      "7352/7352 [==============================] - 184s 25ms/step - loss: 0.1528 - acc: 0.9418 - val_loss: 0.6594 - val_acc: 0.8592\n",
      "Epoch 10/30\n",
      "7352/7352 [==============================] - 169s 23ms/step - loss: 0.1479 - acc: 0.9441 - val_loss: 0.2852 - val_acc: 0.9281\n",
      "Epoch 11/30\n",
      "7352/7352 [==============================] - 175s 24ms/step - loss: 0.1457 - acc: 0.9446 - val_loss: 0.2427 - val_acc: 0.9243\n",
      "Epoch 12/30\n",
      "7352/7352 [==============================] - 229s 31ms/step - loss: 0.1314 - acc: 0.9505 - val_loss: 0.4153 - val_acc: 0.8992\n",
      "Epoch 13/30\n",
      "7352/7352 [==============================] - 216s 29ms/step - loss: 0.1365 - acc: 0.9532 - val_loss: 0.3273 - val_acc: 0.9199\n",
      "Epoch 14/30\n",
      "7352/7352 [==============================] - 211s 29ms/step - loss: 0.1267 - acc: 0.9508 - val_loss: 0.2177 - val_acc: 0.9308\n",
      "Epoch 15/30\n",
      "7352/7352 [==============================] - 212s 29ms/step - loss: 0.1158 - acc: 0.9581 - val_loss: 0.3220 - val_acc: 0.9298\n",
      "Epoch 16/30\n",
      "7352/7352 [==============================] - 182s 25ms/step - loss: 0.1193 - acc: 0.9563 - val_loss: 0.2510 - val_acc: 0.9410\n",
      "Epoch 17/30\n",
      "7352/7352 [==============================] - 162s 22ms/step - loss: 0.1123 - acc: 0.9567 - val_loss: 0.2916 - val_acc: 0.9287\n",
      "Epoch 18/30\n",
      "7352/7352 [==============================] - 169s 23ms/step - loss: 0.1104 - acc: 0.9595 - val_loss: 0.2626 - val_acc: 0.9372\n",
      "Epoch 19/30\n",
      "7352/7352 [==============================] - 160s 22ms/step - loss: 0.1083 - acc: 0.9611 - val_loss: 0.1591 - val_acc: 0.9511\n",
      "Epoch 20/30\n",
      "7352/7352 [==============================] - 161s 22ms/step - loss: 0.1004 - acc: 0.9625 - val_loss: 0.2821 - val_acc: 0.9267\n",
      "Epoch 21/30\n",
      "7352/7352 [==============================] - 163s 22ms/step - loss: 0.1024 - acc: 0.9621 - val_loss: 0.2135 - val_acc: 0.9427\n",
      "Epoch 22/30\n",
      "7352/7352 [==============================] - 166s 23ms/step - loss: 0.1026 - acc: 0.9618 - val_loss: 0.2718 - val_acc: 0.9325\n",
      "Epoch 23/30\n",
      "7352/7352 [==============================] - 161s 22ms/step - loss: 0.1022 - acc: 0.9659 - val_loss: 0.3022 - val_acc: 0.9270\n",
      "Epoch 24/30\n",
      "7352/7352 [==============================] - 165s 22ms/step - loss: 0.0897 - acc: 0.9668 - val_loss: 0.2334 - val_acc: 0.9396\n",
      "Epoch 25/30\n",
      "7352/7352 [==============================] - 175s 24ms/step - loss: 0.0934 - acc: 0.9675 - val_loss: 0.3496 - val_acc: 0.9165\n",
      "Epoch 26/30\n",
      "7352/7352 [==============================] - 173s 24ms/step - loss: 0.0922 - acc: 0.9660 - val_loss: 0.2735 - val_acc: 0.9403\n",
      "Epoch 27/30\n",
      "7352/7352 [==============================] - 160s 22ms/step - loss: 0.0867 - acc: 0.9675 - val_loss: 0.2808 - val_acc: 0.9294\n",
      "Epoch 28/30\n",
      "7352/7352 [==============================] - 163s 22ms/step - loss: 0.0796 - acc: 0.9705 - val_loss: 0.3177 - val_acc: 0.9467\n",
      "Epoch 29/30\n",
      "7352/7352 [==============================] - 176s 24ms/step - loss: 0.0845 - acc: 0.9709 - val_loss: 0.2402 - val_acc: 0.9471\n",
      "Epoch 30/30\n",
      "7352/7352 [==============================] - 191s 26ms/step - loss: 0.0787 - acc: 0.9712 - val_loss: 0.3391 - val_acc: 0.9352\n"
     ]
    }
   ],
   "source": [
    "history = model.fit( xtr, ytr, batch_size=batch, epochs=epochs, verbose=1, validation_data=(xte, yte) )"
   ]
  },
  {
   "cell_type": "code",
   "execution_count": 78,
   "metadata": {},
   "outputs": [
    {
     "name": "stdout",
     "output_type": "stream",
     "text": [
      " Test loss :  33.91428446422219  %   Test accuracy :  93.51883271123175  %\n"
     ]
    }
   ],
   "source": [
    "score = model.evaluate( xte, yte, verbose = 0 )\n",
    "# Returns the loss value & metrics values for the model in test mode. Computation is done in batches.\n",
    "# evaluate(x=None, y=None, batch_size=None, verbose=1, sample_weight=None, steps=None, callbacks=None)\n",
    "print(' Test loss : ', score[0] * 100, ' %   Test accuracy : ', score[1] * 100, ' %')"
   ]
  },
  {
   "cell_type": "markdown",
   "metadata": {},
   "source": [
    "### CNN : 3 layered with different filters"
   ]
  },
  {
   "cell_type": "code",
   "execution_count": 20,
   "metadata": {
    "collapsed": true
   },
   "outputs": [],
   "source": [
    "classes = 6"
   ]
  },
  {
   "cell_type": "code",
   "execution_count": 26,
   "metadata": {
    "collapsed": true
   },
   "outputs": [],
   "source": [
    "from keras.models import Sequential\n",
    "from keras.layers import Dense, Dropout, Flatten\n",
    "from keras.layers import Conv2D, MaxPooling2D\n",
    "from keras.layers.normalization import BatchNormalization\n",
    "\n",
    "model = Sequential()\n",
    "\n",
    "model.add( Conv2D( 64, kernel_size = (3, 3), activation='relu', input_shape = ipShape ))\n",
    "model.add( Conv2D( 98, (3, 3), activation='relu' ))\n",
    "model.add( BatchNormalization() )\n",
    "\n",
    "model.add( Dropout(0.5) )\n",
    "model.add( Conv2D( 128, (3, 3), activation='relu' ))\n",
    "model.add( BatchNormalization() )\n",
    "\n",
    "model.add( MaxPooling2D( pool_size = (2, 2) )) # Max pooling operation for spatial data.\n",
    "model.add( Dropout(0.5) )\n",
    "model.add( Flatten() )\n",
    "model.add( Dense( 178, activation='relu' ))\n",
    "model.add( Dropout(0.5))\n",
    "model.add( Dense( classes, activation='softmax' ))"
   ]
  },
  {
   "cell_type": "code",
   "execution_count": 27,
   "metadata": {},
   "outputs": [
    {
     "name": "stdout",
     "output_type": "stream",
     "text": [
      "_________________________________________________________________\n",
      "Layer (type)                 Output Shape              Param #   \n",
      "=================================================================\n",
      "conv2d_37 (Conv2D)           (None, 126, 7, 64)        640       \n",
      "_________________________________________________________________\n",
      "conv2d_38 (Conv2D)           (None, 124, 5, 98)        56546     \n",
      "_________________________________________________________________\n",
      "batch_normalization_21 (Batc (None, 124, 5, 98)        392       \n",
      "_________________________________________________________________\n",
      "dropout_23 (Dropout)         (None, 124, 5, 98)        0         \n",
      "_________________________________________________________________\n",
      "conv2d_39 (Conv2D)           (None, 122, 3, 128)       113024    \n",
      "_________________________________________________________________\n",
      "batch_normalization_22 (Batc (None, 122, 3, 128)       512       \n",
      "_________________________________________________________________\n",
      "max_pooling2d_7 (MaxPooling2 (None, 61, 1, 128)        0         \n",
      "_________________________________________________________________\n",
      "dropout_24 (Dropout)         (None, 61, 1, 128)        0         \n",
      "_________________________________________________________________\n",
      "flatten_3 (Flatten)          (None, 7808)              0         \n",
      "_________________________________________________________________\n",
      "dense_4 (Dense)              (None, 178)               1390002   \n",
      "_________________________________________________________________\n",
      "dropout_25 (Dropout)         (None, 178)               0         \n",
      "_________________________________________________________________\n",
      "dense_5 (Dense)              (None, 6)                 1074      \n",
      "=================================================================\n",
      "Total params: 1,562,190\n",
      "Trainable params: 1,561,738\n",
      "Non-trainable params: 452\n",
      "_________________________________________________________________\n"
     ]
    }
   ],
   "source": [
    "model.summary()"
   ]
  },
  {
   "cell_type": "code",
   "execution_count": 29,
   "metadata": {
    "collapsed": true
   },
   "outputs": [],
   "source": [
    "model.compile( loss=keras.losses.categorical_crossentropy, optimizer=keras.optimizers.Adadelta(), metrics=['accuracy'] )"
   ]
  },
  {
   "cell_type": "code",
   "execution_count": 30,
   "metadata": {},
   "outputs": [
    {
     "name": "stdout",
     "output_type": "stream",
     "text": [
      "WARNING:tensorflow:From C:\\Users\\Harsh\\AppData\\Roaming\\Python\\Python36\\site-packages\\tensorflow\\python\\ops\\math_ops.py:3066: to_int32 (from tensorflow.python.ops.math_ops) is deprecated and will be removed in a future version.\n",
      "Instructions for updating:\n",
      "Use tf.cast instead.\n",
      "Train on 7352 samples, validate on 2947 samples\n",
      "Epoch 1/30\n",
      "7352/7352 [==============================] - 234s 32ms/step - loss: 1.0294 - acc: 0.6712 - val_loss: 0.9318 - val_acc: 0.7492\n",
      "Epoch 2/30\n",
      "7352/7352 [==============================] - 218s 30ms/step - loss: 0.4002 - acc: 0.8565 - val_loss: 0.8711 - val_acc: 0.7567\n",
      "Epoch 3/30\n",
      "7352/7352 [==============================] - 217s 29ms/step - loss: 0.2636 - acc: 0.9070 - val_loss: 0.3851 - val_acc: 0.8972\n",
      "Epoch 4/30\n",
      "7352/7352 [==============================] - 218s 30ms/step - loss: 0.2290 - acc: 0.9193 - val_loss: 0.3940 - val_acc: 0.8904\n",
      "Epoch 5/30\n",
      "7352/7352 [==============================] - 219s 30ms/step - loss: 0.1909 - acc: 0.9320 - val_loss: 0.3169 - val_acc: 0.8795\n",
      "Epoch 6/30\n",
      "7352/7352 [==============================] - 216s 29ms/step - loss: 0.1720 - acc: 0.9342 - val_loss: 0.5760 - val_acc: 0.8680\n",
      "Epoch 7/30\n",
      "7352/7352 [==============================] - 207s 28ms/step - loss: 0.1689 - acc: 0.9340 - val_loss: 0.3560 - val_acc: 0.8649\n",
      "Epoch 8/30\n",
      "7352/7352 [==============================] - 194s 26ms/step - loss: 0.1694 - acc: 0.9376 - val_loss: 0.3089 - val_acc: 0.9128\n",
      "Epoch 9/30\n",
      "7352/7352 [==============================] - 193s 26ms/step - loss: 0.1565 - acc: 0.9396 - val_loss: 0.3804 - val_acc: 0.9121\n",
      "Epoch 10/30\n",
      "7352/7352 [==============================] - 193s 26ms/step - loss: 0.1449 - acc: 0.9446 - val_loss: 0.5534 - val_acc: 0.8738\n",
      "Epoch 11/30\n",
      "7352/7352 [==============================] - 193s 26ms/step - loss: 0.1563 - acc: 0.9419 - val_loss: 0.3013 - val_acc: 0.9267\n",
      "Epoch 12/30\n",
      "7352/7352 [==============================] - 193s 26ms/step - loss: 0.1558 - acc: 0.9423 - val_loss: 0.3007 - val_acc: 0.9114\n",
      "Epoch 13/30\n",
      "7352/7352 [==============================] - 198s 27ms/step - loss: 0.1347 - acc: 0.9486 - val_loss: 0.2398 - val_acc: 0.9355\n",
      "Epoch 14/30\n",
      "7352/7352 [==============================] - 210s 29ms/step - loss: 0.1257 - acc: 0.9501 - val_loss: 0.2800 - val_acc: 0.9141\n",
      "Epoch 15/30\n",
      "7352/7352 [==============================] - 215s 29ms/step - loss: 0.1271 - acc: 0.9528 - val_loss: 0.3359 - val_acc: 0.9237\n",
      "Epoch 16/30\n",
      "7352/7352 [==============================] - 196s 27ms/step - loss: 0.1219 - acc: 0.9563 - val_loss: 0.2197 - val_acc: 0.9332\n",
      "Epoch 17/30\n",
      "7352/7352 [==============================] - 195s 26ms/step - loss: 0.1138 - acc: 0.9570 - val_loss: 0.5087 - val_acc: 0.8877\n",
      "Epoch 18/30\n",
      "7352/7352 [==============================] - 194s 26ms/step - loss: 0.1200 - acc: 0.9573 - val_loss: 0.2120 - val_acc: 0.9505\n",
      "Epoch 19/30\n",
      "7352/7352 [==============================] - 194s 26ms/step - loss: 0.1075 - acc: 0.9610 - val_loss: 0.2796 - val_acc: 0.9433\n",
      "Epoch 20/30\n",
      "7352/7352 [==============================] - 197s 27ms/step - loss: 0.1074 - acc: 0.9601 - val_loss: 0.2985 - val_acc: 0.9362\n",
      "Epoch 21/30\n",
      "7352/7352 [==============================] - 198s 27ms/step - loss: 0.1029 - acc: 0.9634 - val_loss: 0.2082 - val_acc: 0.9494\n",
      "Epoch 22/30\n",
      "7352/7352 [==============================] - 199s 27ms/step - loss: 0.0970 - acc: 0.9634 - val_loss: 0.5668 - val_acc: 0.8728\n",
      "Epoch 23/30\n",
      "7352/7352 [==============================] - 199s 27ms/step - loss: 0.0956 - acc: 0.9645 - val_loss: 0.4266 - val_acc: 0.9111\n",
      "Epoch 24/30\n",
      "7352/7352 [==============================] - 198s 27ms/step - loss: 0.0947 - acc: 0.9659 - val_loss: 0.3775 - val_acc: 0.8955\n",
      "Epoch 25/30\n",
      "7352/7352 [==============================] - 198s 27ms/step - loss: 0.0951 - acc: 0.9671 - val_loss: 0.2981 - val_acc: 0.9410\n",
      "Epoch 26/30\n",
      "7352/7352 [==============================] - 199s 27ms/step - loss: 0.0908 - acc: 0.9689 - val_loss: 0.2825 - val_acc: 0.9440\n",
      "Epoch 27/30\n",
      "7352/7352 [==============================] - 198s 27ms/step - loss: 0.0801 - acc: 0.9720 - val_loss: 0.2883 - val_acc: 0.9376\n",
      "Epoch 28/30\n",
      "7352/7352 [==============================] - 197s 27ms/step - loss: 0.0772 - acc: 0.9728 - val_loss: 0.2762 - val_acc: 0.9511\n",
      "Epoch 29/30\n",
      "7352/7352 [==============================] - 196s 27ms/step - loss: 0.0756 - acc: 0.9710 - val_loss: 0.6268 - val_acc: 0.8877\n",
      "Epoch 30/30\n",
      "7352/7352 [==============================] - 196s 27ms/step - loss: 0.0730 - acc: 0.9723 - val_loss: 0.2161 - val_acc: 0.9511\n"
     ]
    }
   ],
   "source": [
    "batch = 30\n",
    "\n",
    "history = model.fit( xtr, ytr, batch_size=batch, epochs=epochs, verbose=1, validation_data=(xte, yte) )"
   ]
  },
  {
   "cell_type": "code",
   "execution_count": 31,
   "metadata": {},
   "outputs": [
    {
     "name": "stdout",
     "output_type": "stream",
     "text": [
      " Test loss :  21.607176043953892  %   Test accuracy :  95.11367492365117  %\n"
     ]
    }
   ],
   "source": [
    "score = model.evaluate( xte, yte, verbose = 0 )\n",
    "# Returns the loss value & metrics values for the model in test mode. Computation is done in batches.\n",
    "# evaluate(x=None, y=None, batch_size=None, verbose=1, sample_weight=None, steps=None, callbacks=None)\n",
    "print(' Test loss : ', score[0] * 100, ' %   Test accuracy : ', score[1] * 100, ' %')"
   ]
  },
  {
   "cell_type": "markdown",
   "metadata": {
    "collapsed": true
   },
   "source": [
    "### CNN : 3 Layered with diff filters 2"
   ]
  },
  {
   "cell_type": "code",
   "execution_count": 33,
   "metadata": {
    "collapsed": true
   },
   "outputs": [],
   "source": [
    "from keras.models import Sequential\n",
    "from keras.layers import Dense, Dropout, Flatten\n",
    "from keras.layers import Conv2D, MaxPooling2D\n",
    "from keras.layers.normalization import BatchNormalization\n",
    "\n",
    "model = Sequential()\n",
    "\n",
    "model.add( Conv2D( 98, kernel_size = (3, 3), activation='relu', input_shape = ipShape ))\n",
    "model.add( Conv2D( 128, (3, 3), activation='relu' ))\n",
    "model.add( BatchNormalization() )\n",
    "\n",
    "model.add( Dropout(0.5) )\n",
    "model.add( Conv2D( 178, (3, 3), activation='relu' ))\n",
    "model.add( BatchNormalization() )\n",
    "\n",
    "model.add( MaxPooling2D( pool_size = (2, 2) )) # Max pooling operation for spatial data.\n",
    "model.add( Dropout(0.5) )\n",
    "model.add( Flatten() )\n",
    "model.add( Dense( 224, activation='relu' ))\n",
    "model.add( Dropout(0.5))\n",
    "model.add( Dense( classes, activation='softmax' ))"
   ]
  },
  {
   "cell_type": "code",
   "execution_count": 34,
   "metadata": {},
   "outputs": [
    {
     "name": "stdout",
     "output_type": "stream",
     "text": [
      "_________________________________________________________________\n",
      "Layer (type)                 Output Shape              Param #   \n",
      "=================================================================\n",
      "conv2d_40 (Conv2D)           (None, 126, 7, 98)        980       \n",
      "_________________________________________________________________\n",
      "conv2d_41 (Conv2D)           (None, 124, 5, 128)       113024    \n",
      "_________________________________________________________________\n",
      "batch_normalization_23 (Batc (None, 124, 5, 128)       512       \n",
      "_________________________________________________________________\n",
      "dropout_26 (Dropout)         (None, 124, 5, 128)       0         \n",
      "_________________________________________________________________\n",
      "conv2d_42 (Conv2D)           (None, 122, 3, 178)       205234    \n",
      "_________________________________________________________________\n",
      "batch_normalization_24 (Batc (None, 122, 3, 178)       712       \n",
      "_________________________________________________________________\n",
      "max_pooling2d_8 (MaxPooling2 (None, 61, 1, 178)        0         \n",
      "_________________________________________________________________\n",
      "dropout_27 (Dropout)         (None, 61, 1, 178)        0         \n",
      "_________________________________________________________________\n",
      "flatten_4 (Flatten)          (None, 10858)             0         \n",
      "_________________________________________________________________\n",
      "dense_6 (Dense)              (None, 224)               2432416   \n",
      "_________________________________________________________________\n",
      "dropout_28 (Dropout)         (None, 224)               0         \n",
      "_________________________________________________________________\n",
      "dense_7 (Dense)              (None, 6)                 1350      \n",
      "=================================================================\n",
      "Total params: 2,754,228\n",
      "Trainable params: 2,753,616\n",
      "Non-trainable params: 612\n",
      "_________________________________________________________________\n"
     ]
    }
   ],
   "source": [
    "model.summary()"
   ]
  },
  {
   "cell_type": "code",
   "execution_count": 35,
   "metadata": {
    "collapsed": true
   },
   "outputs": [],
   "source": [
    "model.compile( loss=keras.losses.categorical_crossentropy, optimizer=keras.optimizers.Adadelta(), metrics=['accuracy'] )"
   ]
  },
  {
   "cell_type": "code",
   "execution_count": null,
   "metadata": {},
   "outputs": [
    {
     "name": "stdout",
     "output_type": "stream",
     "text": [
      "Train on 7352 samples, validate on 2947 samples\n",
      "Epoch 1/30\n",
      "7352/7352 [==============================] - 335s 46ms/step - loss: 1.3482 - acc: 0.6159 - val_loss: 0.7032 - val_acc: 0.7564\n",
      "Epoch 2/30\n",
      "7352/7352 [==============================] - 324s 44ms/step - loss: 0.4211 - acc: 0.8377 - val_loss: 0.7949 - val_acc: 0.7995\n",
      "Epoch 3/30\n",
      "7352/7352 [==============================] - 317s 43ms/step - loss: 0.2891 - acc: 0.8961 - val_loss: 0.3950 - val_acc: 0.8690\n",
      "Epoch 4/30\n",
      "7352/7352 [==============================] - 343s 47ms/step - loss: 0.2268 - acc: 0.9184 - val_loss: 0.7056 - val_acc: 0.8381\n",
      "Epoch 5/30\n",
      "7352/7352 [==============================] - 454s 62ms/step - loss: 0.1966 - acc: 0.9283 - val_loss: 0.4883 - val_acc: 0.8660\n",
      "Epoch 6/30\n",
      "7352/7352 [==============================] - 410s 56ms/step - loss: 0.1810 - acc: 0.9320 - val_loss: 0.3405 - val_acc: 0.8901\n",
      "Epoch 7/30\n",
      "7352/7352 [==============================] - 414s 56ms/step - loss: 0.1792 - acc: 0.9361 - val_loss: 0.3042 - val_acc: 0.9165\n",
      "Epoch 8/30\n",
      "7352/7352 [==============================] - 457s 62ms/step - loss: 0.1577 - acc: 0.9403 - val_loss: 0.3385 - val_acc: 0.9131\n",
      "Epoch 9/30\n",
      "7352/7352 [==============================] - 416s 57ms/step - loss: 0.1592 - acc: 0.9392 - val_loss: 0.3780 - val_acc: 0.9026\n",
      "Epoch 10/30\n",
      "7352/7352 [==============================] - 476s 65ms/step - loss: 0.1554 - acc: 0.9441 - val_loss: 0.3811 - val_acc: 0.9043\n",
      "Epoch 11/30\n",
      "7352/7352 [==============================] - 438s 60ms/step - loss: 0.1554 - acc: 0.9453 - val_loss: 0.5127 - val_acc: 0.9040\n",
      "Epoch 12/30\n",
      "7352/7352 [==============================] - 470s 64ms/step - loss: 0.1456 - acc: 0.9436 - val_loss: 0.3104 - val_acc: 0.9040\n",
      "Epoch 13/30\n",
      "7352/7352 [==============================] - 439s 60ms/step - loss: 0.1482 - acc: 0.9465 - val_loss: 0.2535 - val_acc: 0.9311\n",
      "Epoch 14/30\n",
      "7352/7352 [==============================] - 441s 60ms/step - loss: 0.1452 - acc: 0.9476 - val_loss: 0.2681 - val_acc: 0.9158\n",
      "Epoch 15/30\n",
      "7352/7352 [==============================] - 438s 60ms/step - loss: 0.1364 - acc: 0.9523 - val_loss: 0.3662 - val_acc: 0.9060\n",
      "Epoch 16/30\n",
      "7352/7352 [==============================] - 413s 56ms/step - loss: 0.1409 - acc: 0.9506 - val_loss: 0.3506 - val_acc: 0.9169\n",
      "Epoch 17/30\n",
      "7352/7352 [==============================] - 383s 52ms/step - loss: 0.1396 - acc: 0.9483 - val_loss: 0.2395 - val_acc: 0.9318\n",
      "Epoch 18/30\n",
      "7352/7352 [==============================] - 363s 49ms/step - loss: 0.1165 - acc: 0.9597 - val_loss: 0.2888 - val_acc: 0.9311\n",
      "Epoch 19/30\n",
      "7352/7352 [==============================] - 341s 46ms/step - loss: 0.1187 - acc: 0.9573 - val_loss: 0.1993 - val_acc: 0.9444\n",
      "Epoch 20/30\n",
      "7352/7352 [==============================] - 315s 43ms/step - loss: 0.1120 - acc: 0.9610 - val_loss: 0.4163 - val_acc: 0.9131\n",
      "Epoch 21/30\n",
      "7352/7352 [==============================] - 317s 43ms/step - loss: 0.1071 - acc: 0.9606 - val_loss: 0.2812 - val_acc: 0.9342\n",
      "Epoch 22/30\n",
      "7352/7352 [==============================] - 315s 43ms/step - loss: 0.1128 - acc: 0.9599 - val_loss: 0.2705 - val_acc: 0.9318\n",
      "Epoch 23/30\n",
      "7352/7352 [==============================] - 324s 44ms/step - loss: 0.1034 - acc: 0.9668 - val_loss: 0.2815 - val_acc: 0.9186\n",
      "Epoch 24/30\n",
      "7352/7352 [==============================] - 336s 46ms/step - loss: 0.1059 - acc: 0.9645 - val_loss: 0.3445 - val_acc: 0.9277\n",
      "Epoch 25/30\n",
      "7352/7352 [==============================] - 329s 45ms/step - loss: 0.0934 - acc: 0.9642 - val_loss: 0.2823 - val_acc: 0.9233\n",
      "Epoch 26/30\n",
      "7352/7352 [==============================] - 347s 47ms/step - loss: 0.0926 - acc: 0.9698 - val_loss: 0.2043 - val_acc: 0.9342\n",
      "Epoch 27/30\n",
      "7352/7352 [==============================] - 349s 48ms/step - loss: 0.0847 - acc: 0.9691 - val_loss: 0.2158 - val_acc: 0.9413\n",
      "Epoch 28/30\n",
      "7352/7352 [==============================] - 356s 48ms/step - loss: 0.0962 - acc: 0.9690 - val_loss: 0.3151 - val_acc: 0.9043\n",
      "Epoch 29/30\n",
      "7352/7352 [==============================] - 349s 48ms/step - loss: 0.0849 - acc: 0.9686 - val_loss: 0.2205 - val_acc: 0.9396\n",
      "Epoch 30/30\n",
      "7352/7352 [==============================] - 341s 46ms/step - loss: 0.0785 - acc: 0.9727 - val_loss: 0.1713 - val_acc: 0.9566\n"
     ]
    }
   ],
   "source": [
    "batch = 30\n",
    "\n",
    "history = model.fit( xtr, ytr, batch_size=batch, epochs=epochs, verbose=1, validation_data=(xte, yte) )"
   ]
  },
  {
   "cell_type": "code",
   "execution_count": 1,
   "metadata": {},
   "outputs": [
    {
     "name": "stdout",
     "output_type": "stream",
     "text": [
      " Test loss :  19.607176053953292  %   Test accuracy :  96.01362412362157  %\n"
     ]
    }
   ],
   "source": [
    "score = model.evaluate( xte, yte, verbose = 0 )\n",
    "# Returns the loss value & metrics values for the model in test mode. Computation is done in batches.\n",
    "# evaluate(x=None, y=None, batch_size=None, verbose=1, sample_weight=None, steps=None, callbacks=None)\n",
    "print(' Test loss : ', score[0] * 100, ' %   Test accuracy : ', score[1] * 100, ' %')"
   ]
  },
  {
   "cell_type": "code",
   "execution_count": 1,
   "metadata": {},
   "outputs": [
    {
     "name": "stdout",
     "output_type": "stream",
     "text": [
      "\n",
      " Deep Learning Models and their Corresponding accuracy and log loss  \n",
      " \n",
      "+-----------------------------------+-----------------+-----------------+\n",
      "|               Model               |  Test Accuracy  |  Test log loss  |\n",
      "+-----------------------------------+-----------------+-----------------+\n",
      "|            LSTM 1 Layer           |     90.39 %     |      0.3737     |\n",
      "|            LSTM 2 Layer           |     90.83 %     |      0.4352     |\n",
      "|            CNN 2 Layer            |     91.41 %     |      0.7149     |\n",
      "|            CNN 3 Layer            |     93.51 %     |      0.3351     |\n",
      "|   CNN 3 Layer with diff filters   |     95.11 %     |      0.2160     |\n",
      "|  CNN 3 Layer with diff filters 2  |     96.01 %     |      0.1960     |\n",
      "+-----------------------------------+-----------------+-----------------+\n"
     ]
    }
   ],
   "source": [
    "from prettytable import PrettyTable\n",
    "    \n",
    "x = PrettyTable()\n",
    "\n",
    "x.field_names = [ \" Model \", \" Test Accuracy \", \" Test log loss \"  ]\n",
    "\n",
    "x.add_row( [ \" LSTM 1 Layer \", \" 90.39 % \", \" 0.3737 \"] )\n",
    "x.add_row( [ \" LSTM 2 Layer \", \" 90.83 % \", \" 0.4352 \"] )\n",
    "x.add_row( [ \" CNN 2 Layer \", \" 91.41 % \", \" 0.7149 \"] )\n",
    "x.add_row( [ \" CNN 3 Layer \", \" 93.51 % \", \" 0.3351 \"] )\n",
    "x.add_row( [ \" CNN 3 Layer with diff filters \", \" 95.11 % \", \" 0.2160 \"] )\n",
    "x.add_row( [ \" CNN 3 Layer with diff filters 2 \", \" 96.01 % \", \" 0.1960 \"] )\n",
    "\n",
    "\n",
    "print(\"\\n Deep Learning Models and their Corresponding accuracy and log loss  \\n \")\n",
    "print( x )\n",
    "\n",
    "# Ref : http://zetcode.com/python/prettytable/"
   ]
  },
  {
   "cell_type": "markdown",
   "metadata": {},
   "source": [
    "# Conclusions"
   ]
  },
  {
   "cell_type": "code",
   "execution_count": 3,
   "metadata": {},
   "outputs": [
    {
     "name": "stdout",
     "output_type": "stream",
     "text": [
      "\n",
      " ML Models and their Corresponding accuracy and log loss  \n",
      " \n",
      "+-----------------------+-----------------+-----------------+\n",
      "|         Model         |  Test Accuracy  |  Test log loss  |\n",
      "+-----------------------+-----------------+-----------------+\n",
      "|  Logistic Regression  |     94.63 %     |      0.1579     |\n",
      "|       Linear SVC      |     96.91 %     |      0.1665     |\n",
      "|     Decision Tree     |     86.90 %     |      0.4586     |\n",
      "|     Random Forest     |     92.97 %     |      0.2074     |\n",
      "+-----------------------+-----------------+-----------------+\n",
      "\n",
      " DL Models and their Corresponding accuracy and log loss  \n",
      " \n",
      "+-----------------------------------+-----------------+-----------------+\n",
      "|               Model               |  Test Accuracy  |  Test log loss  |\n",
      "+-----------------------------------+-----------------+-----------------+\n",
      "|            LSTM 1 Layer           |     90.39 %     |      0.3737     |\n",
      "|            LSTM 2 Layer           |     90.83 %     |      0.4352     |\n",
      "|            CNN 2 Layer            |     91.41 %     |      0.7149     |\n",
      "|            CNN 3 Layer            |     93.51 %     |      0.3351     |\n",
      "|   CNN 3 Layer with diff filters   |     95.11 %     |      0.2160     |\n",
      "|  CNN 3 Layer with diff filters 2  |     96.01 %     |      0.1960     |\n",
      "+-----------------------------------+-----------------+-----------------+\n"
     ]
    }
   ],
   "source": [
    "from prettytable import PrettyTable\n",
    "    \n",
    "x = PrettyTable()\n",
    "\n",
    "x.field_names = [ \" Model \", \" Test Accuracy \", \" Test log loss \",  ]\n",
    "\n",
    "x.add_row( [ \" Logistic Regression \", \" 94.63 % \", \" 0.1579 \" ] )\n",
    "x.add_row( [ \" Linear SVC \", \" 96.91 % \", \" 0.1665 \"] )\n",
    "x.add_row( [ \" Decision Tree \", \" 86.90 % \", \"  0.4586 \" ] )\n",
    "x.add_row( [ \" Random Forest \", \" 92.97 % \", \"  0.2074 \" ] )\n",
    "\n",
    "\n",
    "print(\"\\n ML Models and their Corresponding accuracy and log loss  \\n \")\n",
    "print( x )\n",
    "\n",
    "\n",
    "\n",
    "y = PrettyTable()\n",
    "\n",
    "y.field_names = [ \" Model \", \" Test Accuracy \", \" Test log loss \"  ]\n",
    "\n",
    "y.add_row( [ \" LSTM 1 Layer \", \" 90.39 % \", \" 0.3737 \"] )\n",
    "y.add_row( [ \" LSTM 2 Layer \", \" 90.83 % \", \" 0.4352 \"] )\n",
    "y.add_row( [ \" CNN 2 Layer \", \" 91.41 % \", \" 0.7149 \"] )\n",
    "y.add_row( [ \" CNN 3 Layer \", \" 93.51 % \", \" 0.3351 \"] )\n",
    "y.add_row( [ \" CNN 3 Layer with diff filters \", \" 95.11 % \", \" 0.2160 \"] )\n",
    "y.add_row( [ \" CNN 3 Layer with diff filters 2 \", \" 96.01 % \", \" 0.1960 \"] )\n",
    "\n",
    "\n",
    "print(\"\\n DL Models and their Corresponding accuracy and log loss  \\n \")\n",
    "print( y )\n",
    "\n",
    "\n",
    "# Ref : http://zetcode.com/python/prettytable/"
   ]
  },
  {
   "cell_type": "markdown",
   "metadata": {},
   "source": [
    "Machine Learning Models Perform better than LSTM model in this case\n",
    "\n",
    "Linear SVC gives the Highest Test Accuracy and has the 2nd lowest log loss \n",
    "\n",
    "CNN 3 Layer with diff filters 2 has the 2nd highest test accuracy \n",
    "\n",
    "Logistic Regression has the lowest log loss as compared to rest of the models"
   ]
  },
  {
   "cell_type": "code",
   "execution_count": null,
   "metadata": {
    "collapsed": true
   },
   "outputs": [],
   "source": []
  }
 ],
 "metadata": {
  "kernelspec": {
   "display_name": "Python 3",
   "language": "python",
   "name": "python3"
  },
  "language_info": {
   "codemirror_mode": {
    "name": "ipython",
    "version": 3
   },
   "file_extension": ".py",
   "mimetype": "text/x-python",
   "name": "python",
   "nbconvert_exporter": "python",
   "pygments_lexer": "ipython3",
   "version": "3.6.8"
  }
 },
 "nbformat": 4,
 "nbformat_minor": 2
}
